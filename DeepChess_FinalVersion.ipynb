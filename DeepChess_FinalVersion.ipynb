{
  "nbformat": 4,
  "nbformat_minor": 0,
  "metadata": {
    "colab": {
      "name": "DeepChess_FinalVersion.ipynb",
      "provenance": [],
      "collapsed_sections": [],
      "machine_shape": "hm"
    },
    "kernelspec": {
      "name": "python3",
      "display_name": "Python 3"
    },
    "accelerator": "GPU"
  },
  "cells": [
    {
      "cell_type": "markdown",
      "metadata": {
        "id": "o6tu1WjR_7jh"
      },
      "source": [
        "Parts of the code in this colab are modified or re-used from RhinoChess's implementation of DeepChess : https://colab.research.google.com/drive/1V8KEI0qYJiqSAjN2vUTdpTHvw1pkrZB0#scrollTo=SaBsinerz-cz"
      ]
    },
    {
      "cell_type": "code",
      "metadata": {
        "id": "ZRfICYcLzDQ_",
        "colab": {
          "base_uri": "https://localhost:8080/"
        },
        "outputId": "727a0062-da32-49f7-afd1-de10e62b35ec"
      },
      "source": [
        "import chess\n",
        "import chess.svg\n",
        "import chess.pgn \n",
        "import numpy as np \n",
        "import random\n",
        "import h5py\n",
        "import torch\n",
        "import torch.nn as nn\n",
        "import torch.optim as optim\n",
        "from torch.utils.data import DataLoader, TensorDataset\n",
        "import torch.nn.functional as F\n",
        "from sklearn.model_selection import train_test_split\n",
        "import matplotlib.pyplot as plt\n",
        "from IPython.display import SVG, display\n",
        "import time\n",
        "import sklearn\n",
        "import copy\n",
        "from pathlib import Path\n",
        "from tqdm import tqdm\n",
        "import time \n",
        "\n",
        "torch.manual_seed(123)"
      ],
      "execution_count": null,
      "outputs": [
        {
          "output_type": "execute_result",
          "data": {
            "text/plain": [
              "<torch._C.Generator at 0x7f6631d2c510>"
            ]
          },
          "metadata": {
            "tags": []
          },
          "execution_count": 1
        }
      ]
    },
    {
      "cell_type": "markdown",
      "metadata": {
        "id": "Xq3ubpf81Tty"
      },
      "source": [
        "In the following code blocks, the position datasets are loaded into dataloaders. I only loaded the necessary information for the encoder/decoder model in the dataloader objects. Also, I shuffled the observations so that the winning and losing positions aren't all bunched together in the dataset."
      ]
    },
    {
      "cell_type": "code",
      "metadata": {
        "id": "acb11iqLgwQ0"
      },
      "source": [
        "# Datasets from local files (for debugging)\n",
        "## from google.colab import drive\n",
        "## drive.mount('/content/drive')"
      ],
      "execution_count": null,
      "outputs": []
    },
    {
      "cell_type": "markdown",
      "metadata": {
        "id": "DIj5uGHO5bSE"
      },
      "source": [
        "Direct download of the datasets and trained model weights"
      ]
    },
    {
      "cell_type": "code",
      "metadata": {
        "colab": {
          "base_uri": "https://localhost:8080/"
        },
        "id": "5oD6ruu5WMvN",
        "outputId": "2ea554ce-95c2-42f3-e284-eaf37a2a97ec"
      },
      "source": [
        "!gdown --id 1GCR9xVlIKXa0v-Q6XCbWPNDGkA6JRyAL\n",
        "!gdown --id 1diprHGEiViYrm7KFbRCxClq90T3iKp3I  \n",
        "!gdown --id 19MnhZkDMqOz3Tw1oOmvvm3DeuLqGqMmQ\n",
        "!gdown --id 1JUAr_ljsmgOq8edVCQm43KxERQpSGd75"
      ],
      "execution_count": null,
      "outputs": [
        {
          "output_type": "stream",
          "text": [
            "Downloading...\n",
            "From: https://drive.google.com/uc?id=1GCR9xVlIKXa0v-Q6XCbWPNDGkA6JRyAL\n",
            "To: /content/data_500K.h5\n",
            "781MB [00:03, 222MB/s]\n",
            "Downloading...\n",
            "From: https://drive.google.com/uc?id=1diprHGEiViYrm7KFbRCxClq90T3iKp3I\n",
            "To: /content/DeepChess_weights.pth\n",
            "4.81MB [00:00, 29.3MB/s]\n",
            "Downloading...\n",
            "From: https://drive.google.com/uc?id=19MnhZkDMqOz3Tw1oOmvvm3DeuLqGqMmQ\n",
            "To: /content/Pos2Vec_weights.pth\n",
            "6.45MB [00:00, 102MB/s]\n",
            "Downloading...\n",
            "From: https://drive.google.com/uc?id=1JUAr_ljsmgOq8edVCQm43KxERQpSGd75\n",
            "To: /content/8moves_v3.pgn\n",
            "8.04MB [00:00, 71.0MB/s]\n"
          ],
          "name": "stdout"
        }
      ]
    },
    {
      "cell_type": "code",
      "metadata": {
        "id": "pgNY9wAqzFj-"
      },
      "source": [
        "# get data directory\n",
        "\n",
        "data_dir = \"/content/data_500K.h5\" \n",
        "\n",
        "# Load Data and Compute Train/Test Splits\n",
        "hf = h5py.File(data_dir,'r')\n",
        "X_win_train,X_win_val,Y_win_train,Y_win_val = train_test_split(np.array(hf.get('X_win')), \n",
        "                                                   np.array(hf.get('Y_win')), \n",
        "                                                   test_size=0.2, random_state=2)\n",
        "X_lose_train,X_lose_val,Y_lose_train,Y_lose_val = train_test_split(np.array(hf.get('X_lose')), \n",
        "                                                   np.array(hf.get('Y_lose')), \n",
        "                                                   test_size=0.2, random_state=2)\n",
        "\n",
        "hf.close()"
      ],
      "execution_count": null,
      "outputs": []
    },
    {
      "cell_type": "code",
      "metadata": {
        "id": "bUovQ7U-b5Jd"
      },
      "source": [
        "# Train\n",
        "X_win_train = torch.tensor(X_win_train).float()\n",
        "X_lose_train = torch.tensor(X_lose_train).float()\n",
        "\n",
        "Y_win_train = torch.tensor(Y_win_train).float()\n",
        "Y_lose_train = torch.tensor(Y_lose_train).float()\n",
        "\n",
        "catX_train = torch.cat((X_win_train, X_lose_train))\n",
        "catY_train = torch.cat((Y_win_train, Y_lose_train))\n",
        "\n",
        "train_data = TensorDataset(catX_train, catY_train)\n",
        "winData_train = TensorDataset(X_win_train,Y_win_train)\n",
        "loseData_train = TensorDataset(X_lose_train,Y_lose_train)\n",
        "\n",
        "train_loader = torch.utils.data.DataLoader(train_data, batch_size=128, shuffle=True)\n",
        "\n",
        "# Validation\n",
        "X_win_val = torch.tensor(X_win_val).float()\n",
        "X_lose_val = torch.tensor(X_lose_val).float()\n",
        "\n",
        "Y_win_val = torch.tensor(Y_win_val).float()\n",
        "Y_lose_val = torch.tensor(Y_lose_val).float()\n",
        "\n",
        "catX_val = torch.cat((X_win_train, X_lose_val))\n",
        "catY_val = torch.cat((Y_win_train, Y_lose_val))\n",
        "\n",
        "val_data = TensorDataset(catX_val, catY_val)\n",
        "winData_val = TensorDataset(X_win_val,Y_win_val)\n",
        "loseData_val = TensorDataset(X_lose_val,Y_lose_val)\n",
        "\n",
        "val_loader = torch.utils.data.DataLoader(val_data, batch_size=128, shuffle=False)"
      ],
      "execution_count": null,
      "outputs": []
    },
    {
      "cell_type": "markdown",
      "metadata": {
        "id": "b29-CVl3Pb4k"
      },
      "source": [
        "\n",
        "Below I just verified that the observations are of correct size."
      ]
    },
    {
      "cell_type": "code",
      "metadata": {
        "id": "21OTn-by9zvO",
        "colab": {
          "base_uri": "https://localhost:8080/"
        },
        "outputId": "40507583-109f-457b-f9c2-9e2322c7da5b"
      },
      "source": [
        "for i in train_data:\n",
        "  print(i[0].size())\n",
        "  break"
      ],
      "execution_count": null,
      "outputs": [
        {
          "output_type": "stream",
          "text": [
            "torch.Size([773])\n"
          ],
          "name": "stdout"
        }
      ]
    },
    {
      "cell_type": "markdown",
      "metadata": {
        "id": "2fKiyHAk1VLa"
      },
      "source": [
        "In the following code block, I defined the model and the training and evaluation functions. "
      ]
    },
    {
      "cell_type": "code",
      "metadata": {
        "id": "ORpFfoJmylO8"
      },
      "source": [
        "class Pos2Vec(nn.Module):\n",
        "  def __init__(self):\n",
        "    super(Pos2Vec, self).__init__()\n",
        "    # Encoding\n",
        "    self.fc1 = nn.Linear(773, 600)\n",
        "    self.fc2 = nn.Linear(600, 400)\n",
        "    self.fc3 = nn.Linear(400, 200)\n",
        "    self.fc4 = nn.Linear(200, 100)\n",
        "    # Decoding\n",
        "    self.fc5 = nn.Linear(100, 200)\n",
        "    self.fc6 = nn.Linear(200, 400)\n",
        "    self.fc7 = nn.Linear(400, 600)\n",
        "    self.fc8 = nn.Linear(600, 773)\n",
        "      \n",
        "  def forward(self, pos):\n",
        "    # Encoding\n",
        "    x = F.relu(self.fc1(pos))\n",
        "    x = F.relu(self.fc2(x))\n",
        "    x = F.relu(self.fc3(x))\n",
        "    x = F.relu(self.fc4(x))\n",
        "\n",
        "    # Decoding\n",
        "    x = F.relu(self.fc5(x))\n",
        "    x = F.relu(self.fc6(x))\n",
        "    x = F.relu(self.fc7(x))\n",
        "    x = F.relu(self.fc8(x))\n",
        "    return x\n",
        "\n",
        "def train(model, data, optimizer, criterion):\n",
        "    total_loss = 0.0\n",
        "    model.train()\n",
        "    for X in tqdm(data):\n",
        "      X = X[0].to(device)\n",
        "      out = model(X)\n",
        "      loss = criterion(out, X)\n",
        "      optimizer.zero_grad()\n",
        "      loss.backward()\n",
        "      optimizer.step()\n",
        "\n",
        "      total_loss += loss.item()\n",
        "    return total_loss \n",
        "  \n",
        "\n",
        "def evaluate(model, data, criterion):  \n",
        "  total_loss = 0.0\n",
        "  model.eval()\n",
        "  with torch.no_grad():\n",
        "      for X in tqdm(data):\n",
        "          X = X[0].to(device)\n",
        "          out = model(X)\n",
        "          loss = criterion(out, X)\n",
        "          total_loss += loss.item()\n",
        "  return total_loss "
      ],
      "execution_count": null,
      "outputs": []
    },
    {
      "cell_type": "markdown",
      "metadata": {
        "id": "f9r-VcOAPrVY"
      },
      "source": [
        "Then I trained the auto-encoder. "
      ]
    },
    {
      "cell_type": "code",
      "metadata": {
        "id": "Ar8SmyyQzVBF"
      },
      "source": [
        "EPOCHS = 50\n",
        "\n",
        "#  use gpu if available\n",
        "device = torch.device(\"cuda\" if torch.cuda.is_available() else \"cpu\")\n",
        "\n",
        "# train \n",
        "model = Pos2Vec().to(device)\n",
        "optimizer = optim.Adam(model.parameters(), lr=0.0005)\n",
        "criterion = nn.MSELoss()\n",
        "\n",
        "best_valid_loss = 10000.0\n",
        "best_state_dict = copy.deepcopy(model.state_dict())\n",
        "for epoch in range(EPOCHS):\n",
        "    train_loss = train(model, train_loader, optimizer, criterion)\n",
        "    valid_loss = evaluate(model, val_loader, criterion)\n",
        "\n",
        "    print('Epoch {} | Train loss {:.3f} | Valid loss {:.3f} '.format(epoch, train_loss, valid_loss))\n",
        "\n",
        "    if valid_loss < best_valid_loss:\n",
        "        best_valid_loss = valid_loss\n",
        "        best_state_dict = copy.deepcopy(model.state_dict())\n",
        "        torch.save(best_state_dict, \"/content/Pos2Vec_weights.pth\")"
      ],
      "execution_count": null,
      "outputs": []
    },
    {
      "cell_type": "markdown",
      "metadata": {
        "id": "IyPYeV_ozRlL"
      },
      "source": [
        "Load Pos2Vec model from saved weights"
      ]
    },
    {
      "cell_type": "code",
      "metadata": {
        "id": "VOm2IVYOzPgD",
        "colab": {
          "base_uri": "https://localhost:8080/"
        },
        "outputId": "e7b37313-7cd8-4cba-9c46-92801af4d084"
      },
      "source": [
        "device = torch.device(\"cuda\" if torch.cuda.is_available() else \"cpu\")\n",
        "model = Pos2Vec().to(device)\n",
        "model.load_state_dict(torch.load(\"/content/Pos2Vec_weights.pth\"))"
      ],
      "execution_count": null,
      "outputs": [
        {
          "output_type": "execute_result",
          "data": {
            "text/plain": [
              "<All keys matched successfully>"
            ]
          },
          "metadata": {
            "tags": []
          },
          "execution_count": 23
        }
      ]
    },
    {
      "cell_type": "markdown",
      "metadata": {
        "id": "ufMafW3xlDlp"
      },
      "source": [
        "Here I'm just comparing the model predictions and the corresponding  bit board representations to make sure the model works properly. "
      ]
    },
    {
      "cell_type": "code",
      "metadata": {
        "id": "2lOD7IcoUjs1"
      },
      "source": [
        "import random\n",
        "i = random.randint(0,len(val_data))\n",
        "X = model(val_data[i][0].cuda())\n",
        "\n",
        "# print(X) # Original bit board\n",
        "# print(val_data[i][0]) # Predicted board from model"
      ],
      "execution_count": null,
      "outputs": []
    },
    {
      "cell_type": "markdown",
      "metadata": {
        "id": "E8tysScTxegr"
      },
      "source": [
        "The function declared below returns the trained Pos2Vec model vector output"
      ]
    },
    {
      "cell_type": "code",
      "metadata": {
        "id": "vDKQRxDlwBQC",
        "colab": {
          "base_uri": "https://localhost:8080/"
        },
        "outputId": "7f859308-d995-4df9-cc78-569ce08e185f"
      },
      "source": [
        "def get_encoding(model, input):\n",
        "  get_feature_vec = torch.nn.Sequential(*list(model.children())[:4])\n",
        "  encoding = get_feature_vec(input)\n",
        "  return encoding\n",
        "\n",
        "# Testing function \n",
        "enc1 = get_encoding(model, val_data[0][0].cuda())\n",
        "print(enc1.size())"
      ],
      "execution_count": null,
      "outputs": [
        {
          "output_type": "stream",
          "text": [
            "torch.Size([100])\n"
          ],
          "name": "stdout"
        }
      ]
    },
    {
      "cell_type": "markdown",
      "metadata": {
        "id": "kBqOHG0Az5n5"
      },
      "source": [
        "The DeepChess model is initiated."
      ]
    },
    {
      "cell_type": "code",
      "metadata": {
        "id": "iQCZF9ejwFjz"
      },
      "source": [
        "class DeepChess(nn.Module):\n",
        "    def __init__(self):\n",
        "        super(DeepChess, self).__init__()\n",
        "\n",
        "        self.layers = nn.Sequential(\n",
        "            nn.Linear(200,500),\n",
        "            nn.ReLU(inplace=True),\n",
        "            nn.Dropout(0.1),\n",
        "            nn.Linear(500,1048),\n",
        "            nn.ReLU(inplace=True),\n",
        "            nn.Dropout(0.1),\n",
        "            nn.Linear(1048,500),\n",
        "            nn.ReLU(inplace=True),\n",
        "            nn.Dropout(0.1),\n",
        "            nn.Linear(500,100),\n",
        "            nn.ReLU(inplace=True),\n",
        "            nn.Dropout(0.1),\n",
        "            nn.Linear(100,2)\n",
        "        )\n",
        "\n",
        "    def forward(self,x1,x2):\n",
        "        x = torch.cat((x1,x2))\n",
        "        x = self.layers(x)\n",
        "        return F.softmax(x, dim=0)\n",
        "\n",
        "DeepChess_model = DeepChess()\n",
        "DeepChess_model = DeepChess_model.to(device)"
      ],
      "execution_count": null,
      "outputs": []
    },
    {
      "cell_type": "markdown",
      "metadata": {
        "id": "KckPVvLKz94a"
      },
      "source": [
        "The DeepChess model is trained on random pairs of losses and wins on the train data."
      ]
    },
    {
      "cell_type": "code",
      "metadata": {
        "id": "XlcP_Zd9HEbG"
      },
      "source": [
        "# DeepChess = DeepChess()\n",
        "lr = 3e-5\n",
        "criterion = nn.MSELoss()\n",
        "optimizer = optim.Adam(DeepChess_model.parameters(),lr=lr)\n",
        "\n",
        "epochs = 75\n",
        "accuracy = []\n",
        "best_train_loss = 100000\n",
        "\n",
        "win_data_range = range(len(winData_train))\n",
        "loss_data_range = range(len(loseData_train))\n",
        "\n",
        "val_win_data_range = range(len(winData_val))\n",
        "val_loss_data_range = range(len(loseData_val))\n",
        "\n",
        "batch = 4096\n",
        "\n",
        "for epoch in range(epochs):  \n",
        "    train_loss = 0.0\n",
        "    val_loss = 0.0\n",
        "    DeepChess_model.train()\n",
        "\n",
        "    idx_win = random.sample(win_data_range,batch)\n",
        "    idx_loss = random.sample(loss_data_range,batch)\n",
        "    \n",
        "    for i in range(batch):\n",
        "        win_input_train, label = winData_train[idx_win[i]]\n",
        "        loss_input_train, label = loseData_train[idx_loss[i]]\n",
        "\n",
        "        win_input_enc = get_encoding(model, win_input_train.cuda())\n",
        "        win_input_enc = win_input_enc.to(device)\n",
        "\n",
        "        loss_input_enc = get_encoding(model, loss_input_train.cuda())\n",
        "        loss_input_enc = loss_input_enc.to(device)\n",
        "\n",
        "        optimizer.zero_grad()\n",
        "\n",
        "        # Shuffle labels\n",
        "        if random.randint(1,2) == 1:\n",
        "            # Reverse wins and losses\n",
        "            output = DeepChess_model(loss_input_enc, win_input_enc).unsqueeze(0)\n",
        "            label = torch.tensor([[0,1]]).float()\n",
        "            label = label.to(device)\n",
        "            loss = criterion(output, label)\n",
        "\n",
        "        else:    \n",
        "            output = DeepChess_model(win_input_enc, loss_input_enc).unsqueeze(0)\n",
        "            label = torch.tensor([[1,0]]).float()\n",
        "            label = label.to(device)\n",
        "            loss = criterion(output, label)\n",
        "\n",
        "        loss.backward()\n",
        "        optimizer.step()\n",
        "\n",
        "        train_loss += loss.item()   \n",
        "\n",
        "    if train_loss < best_train_loss:\n",
        "        best_valid_loss = train_loss\n",
        "        best_state_dict = copy.deepcopy(DeepChess_model.state_dict())\n",
        "        torch.save(best_state_dict, \"/content/DeepChess_weights.pth\")\n",
        "\n",
        "    print('Epoch {} | Train loss {:.5f} '.format(epoch, train_loss / batch))"
      ],
      "execution_count": null,
      "outputs": []
    },
    {
      "cell_type": "markdown",
      "metadata": {
        "id": "hhU_jhw68Yu1"
      },
      "source": [
        "The models are reloaded"
      ]
    },
    {
      "cell_type": "code",
      "metadata": {
        "id": "4FYDagxxytKq",
        "colab": {
          "base_uri": "https://localhost:8080/"
        },
        "outputId": "07f1f891-6d54-4cab-abfb-477ebd6c157f"
      },
      "source": [
        "# Re-loading models from saved weights\n",
        "pos2vec = Pos2Vec().to(device)\n",
        "pos2vec.load_state_dict(torch.load(\"/content/Pos2Vec_weights.pth\"))\n",
        "\n",
        "DeepChess_model = DeepChess().to(device)\n",
        "DeepChess_model.load_state_dict(torch.load(\"/content/DeepChess_weights.pth\"))"
      ],
      "execution_count": null,
      "outputs": [
        {
          "output_type": "execute_result",
          "data": {
            "text/plain": [
              "<All keys matched successfully>"
            ]
          },
          "metadata": {
            "tags": []
          },
          "execution_count": 24
        }
      ]
    },
    {
      "cell_type": "markdown",
      "metadata": {
        "id": "2ayo3cEwzwa2"
      },
      "source": [
        "The accuracy of the model is calculated on the validation set"
      ]
    },
    {
      "cell_type": "code",
      "metadata": {
        "id": "wB_w2p39pCLY",
        "colab": {
          "base_uri": "https://localhost:8080/"
        },
        "outputId": "6fa967ac-b7b7-4ad0-96f9-c5c7b058faac"
      },
      "source": [
        "# source : RhinoChess colab\n",
        "def test_on_validation(model,winData=winData_val,loseData=loseData_val):\n",
        "    model.eval()\n",
        "    correct = 0\n",
        "    with torch.no_grad():\n",
        "        for (data1,data2) in zip(winData,loseData):   \n",
        "            input_w,_ = data1\n",
        "            input_l,_ = data2\n",
        "\n",
        "            input_w = get_encoding(pos2vec, input_w.cuda())\n",
        "            input_l = get_encoding(pos2vec, input_l.cuda())\n",
        "\n",
        "            input_w = input_w.to(device)\n",
        "            input_l = input_l.to(device)\n",
        "\n",
        "            if random.randint(1,2) == 1:\n",
        "                # Reverse wins and losses\n",
        "                output = model(input_l,input_w)\n",
        "                if torch.argmax(output) == torch.tensor(1):\n",
        "                    correct += 1\n",
        "            else:    \n",
        "                output = model(input_w,input_l)\n",
        "                if torch.argmax(output) == torch.tensor(0):\n",
        "                    correct += 1\n",
        "            \n",
        "        acc = 100 * correct / len(winData_val)\n",
        "        print('Accuracy on Validation Set:', acc,'%')\n",
        "        return acc\n",
        "\n",
        "test_on_validation(DeepChess_model)"
      ],
      "execution_count": null,
      "outputs": [
        {
          "output_type": "stream",
          "text": [
            "Accuracy on Validation Set: 85.067 %\n"
          ],
          "name": "stdout"
        },
        {
          "output_type": "execute_result",
          "data": {
            "text/plain": [
              "85.067"
            ]
          },
          "metadata": {
            "tags": []
          },
          "execution_count": 25
        }
      ]
    },
    {
      "cell_type": "markdown",
      "metadata": {
        "id": "tXbzgrdM1mKc"
      },
      "source": [
        "The output of the model is compared to the labels to confirm that the model predictions are sensible. "
      ]
    },
    {
      "cell_type": "code",
      "metadata": {
        "id": "qrGIBQO10PFr",
        "colab": {
          "base_uri": "https://localhost:8080/"
        },
        "outputId": "5707b5cb-15bd-4bf9-f04e-ed916e9775c0"
      },
      "source": [
        "import random\n",
        "i = random.randint(0,len(winData_val))\n",
        "ii = random.randint(0,len(winData_val))\n",
        "\n",
        "win_input_val, label_win = winData_val[i]\n",
        "loss_input_val, label_loss = loseData_val[ii]\n",
        "\n",
        "valwin_input_enc = get_encoding(pos2vec, win_input_val.cuda())\n",
        "valwin_input_enc = valwin_input_enc.to(device)\n",
        "\n",
        "valoss_input_enc = get_encoding(pos2vec, loss_input_val.cuda())\n",
        "valoss_input_enc = valoss_input_enc.to(device)\n",
        "\n",
        "# Shuffle inputs\n",
        "if random.randint(1,2) == 1:\n",
        "    # Reverse wins and losses\n",
        "    output = DeepChess_model(valoss_input_enc, valwin_input_enc)\n",
        "    labels = (label_loss, label_win)\n",
        "else:    \n",
        "    output = DeepChess_model(valwin_input_enc, valoss_input_enc)\n",
        "    labels = (label_win, label_loss)\n",
        "\n",
        "print(output)\n",
        "print(labels)"
      ],
      "execution_count": null,
      "outputs": [
        {
          "output_type": "stream",
          "text": [
            "tensor([0.3041, 0.6959], device='cuda:0', grad_fn=<SoftmaxBackward>)\n",
            "(tensor(0.), tensor(1.))\n"
          ],
          "name": "stdout"
        }
      ]
    },
    {
      "cell_type": "code",
      "metadata": {
        "id": "8DpDtyjy21aQ"
      },
      "source": [
        "# source : RhinoChess colab\n",
        "def to_bitboard(board):\n",
        "   bb = np.zeros((2,6,64),dtype=np.uint8) # players x pieces x board-size    \n",
        "   for colour in range(2):\n",
        "      for piece in range(6):\n",
        "         for square in range(64):\n",
        "            cur_piece = board.piece_at(square)\n",
        "            if cur_piece is not None:\n",
        "               if cur_piece.piece_type == piece+1 and cur_piece.color == bool(colour):\n",
        "                  bb[colour][piece][square] = 1\n",
        "   \n",
        "   info = np.zeros(5,dtype=np.uint8)\n",
        "   info[0] = board.has_kingside_castling_rights(chess.WHITE)\n",
        "   info[1] = board.has_kingside_castling_rights(chess.BLACK)\n",
        "   info[2] = board.has_queenside_castling_rights(chess.WHITE)\n",
        "   info[3] = board.has_queenside_castling_rights(chess.BLACK)   \n",
        "   info[4] = board.turn\n",
        "\n",
        "   bb = bb.flatten()\n",
        "   bb = np.concatenate((bb,info))\n",
        "   return bb"
      ],
      "execution_count": null,
      "outputs": []
    },
    {
      "cell_type": "code",
      "metadata": {
        "id": "VzrSE_2rnV8t"
      },
      "source": [
        "def get_bitboard(board):\n",
        "    '''\n",
        "    params\n",
        "    ------\n",
        "    board : chess.pgn board object\n",
        "        board to get state from\n",
        "    returns\n",
        "    -------\n",
        "    bitboard representation of the state of the game\n",
        "    64 * 6 + 5 dim binary numpy vector\n",
        "    64 squares, 6 pieces, '1' indicates the piece is at a square\n",
        "    5 extra dimensions for castling rights queenside/kingside and whose turn\n",
        "    '''\n",
        "\n",
        "    bitboard = np.zeros(64*6*2+5)\n",
        "\n",
        "    piece_idx = {'p': 0, 'n': 1, 'b': 2, 'r': 3, 'q': 4, 'k': 5}\n",
        "\n",
        "    for i in range(64):\n",
        "        if board.piece_at(i):\n",
        "            color = int(board.piece_at(i).color) + 1\n",
        "            bitboard[(piece_idx[board.piece_at(i).symbol().lower()] + i * 6) * color] = 1\n",
        "\n",
        "    bitboard[-1] = int(board.turn)\n",
        "    bitboard[-2] = int(board.has_kingside_castling_rights(True))\n",
        "    bitboard[-3] = int(board.has_kingside_castling_rights(False))\n",
        "    bitboard[-4] = int(board.has_queenside_castling_rights(True))\n",
        "    bitboard[-5] = int(board.has_queenside_castling_rights(False))\n",
        "\n",
        "    return bitboard"
      ],
      "execution_count": null,
      "outputs": []
    },
    {
      "cell_type": "code",
      "metadata": {
        "id": "rcqMxsUpMPxo"
      },
      "source": [
        "def alphabeta(node, depth, alpha, beta, maximizingPlayer):\n",
        "\tif depth == 0:\n",
        "\t\treturn node\n",
        "\tif maximizingPlayer:\n",
        "\t\tv = -1\n",
        "\t\tfor move in node.legal_moves:\n",
        "\t\t\tcur = copy.copy(node)\n",
        "\t\t\tcur.push(move)\n",
        "\t\t\tif v == -1:\n",
        "\t\t\t\tv = alphabeta(cur, depth-1, alpha, beta, False) \n",
        "\t\t\tif alpha == -1:\n",
        "\t\t\t\talpha = v\n",
        "\t\t\n",
        "\t\t\tv = netPredict(v, alphabeta(cur, depth-1, alpha, beta, False))[0]\n",
        "\t\t\talpha = netPredict(alpha, v)[0] \n",
        "\t\t\tif beta != 1:\n",
        "\t\t\t\tif netPredict(alpha, beta)[0] == alpha:\n",
        "\t\t\t\t\tbreak\n",
        "\t\treturn v \n",
        "\telse:\n",
        "\t\tv = 1\n",
        "\t\tfor move in node.legal_moves:\n",
        "\t\t\tcur = copy.copy(node)\n",
        "\t\t\tcur.push(move)\n",
        "\t\t\tif v == 1:\n",
        "\t\t\t\tv = alphabeta(cur, depth-1, alpha, beta, True) \n",
        "\t\t\tif beta == 1:\n",
        "\t\t\t\tbeta = v\n",
        "\t\t\t\n",
        "\t\t\tv = netPredict(v, alphabeta(cur, depth-1, alpha, beta, True))[1]\n",
        "\t\t\tbeta = netPredict(beta, v)[1] \n",
        "\t\t\tif alpha != -1:\n",
        "\t\t\t\tif netPredict(alpha, beta)[0] == alpha:\n",
        "\t\t\t\t\tbreak\n",
        "\t\treturn v "
      ],
      "execution_count": null,
      "outputs": []
    },
    {
      "cell_type": "code",
      "metadata": {
        "id": "StEhAHoOmGi5"
      },
      "source": [
        "def netPredict(b1,b2):\n",
        "    if type(b1) == int:\n",
        "      return (-9,-9)\n",
        "    else:\n",
        "      x1 = torch.tensor(get_bitboard(b1)).float()\n",
        "      x1 = get_encoding(pos2vec, x1.cuda())\n",
        "      x1 = x1.to(device)\n",
        "    \n",
        "    if type(b2) == int:\n",
        "      return (-9,-9)\n",
        "    else:\n",
        "      x2 = torch.tensor(get_bitboard(b2)).float()\n",
        "      x2 = get_encoding(pos2vec, x2.cuda())\n",
        "      x2 = x2.to(device) \n",
        "\n",
        "    output = DeepChess_model(x1,x2)\n",
        "    if torch.argmax(output) == torch.tensor(0):\n",
        "        return (b1,b2)\n",
        "    else:\n",
        "        return (b2,b1)\n",
        "  "
      ],
      "execution_count": null,
      "outputs": []
    },
    {
      "cell_type": "code",
      "metadata": {
        "id": "8TZQ305n3WCy"
      },
      "source": [
        "def showBoard(b,flip=False):\n",
        "    display(SVG(chess.svg.board(b,size=300,flipped=flip)))"
      ],
      "execution_count": null,
      "outputs": []
    },
    {
      "cell_type": "code",
      "metadata": {
        "id": "CLVvK5NF3a2d"
      },
      "source": [
        "# source : RhinoChess colab\n",
        "def findMoveInBook(b):\n",
        "    opening_book = open(\"/content/8moves_v3.pgn\") #Better opening book? \n",
        "    game = chess.pgn.read_game(opening_book)\n",
        "    b_temp = game.board()\n",
        "    while True:\n",
        "        for move in game.main_line():\n",
        "            if len(b_temp.move_stack) == len(b.move_stack):\n",
        "                if b_temp == b:\n",
        "                    return move\n",
        "                break\n",
        "            b_temp.push(move)\n",
        "        game = chess.pgn.read_game(opening_book)\n",
        "        if game is None: #EOF\n",
        "            break\n",
        "        b_temp = game.board()\n",
        "    return None"
      ],
      "execution_count": null,
      "outputs": []
    },
    {
      "cell_type": "code",
      "metadata": {
        "id": "-8G9Qm_d3cMJ"
      },
      "source": [
        "def computerMove(board,depth,isWhite):\n",
        "\n",
        "    # Check Opening Book\n",
        "    if len(board.move_stack) < 8:\n",
        "        bookMove = findMoveInBook(board)\n",
        "        if bookMove is not None:\n",
        "            print('Book Move Found: ', bookMove)\n",
        "            board.push(bookMove)\n",
        "            full_game.add_main_variation(bookMove)\n",
        "            return board  \n",
        "    print('No Book Moves Found, Using Engine...')\n",
        "    alpha = -1 \n",
        "    beta = 1\n",
        "    best = -1\n",
        "    startTime = time.time() # time move search\n",
        "    if isWhite:\n",
        "        for move in board.legal_moves:\n",
        "            new_board = board.copy()\n",
        "            new_board.push(move)\n",
        "            if best == -1:\n",
        "                best = alphabeta(new_board,depth-1,alpha,beta,True) \n",
        "                if best == -9:\n",
        "                  stockfish2.set_fen_position(board.fen())\n",
        "                  SF_move = stockfish2.get_best_move()\n",
        "                  endTime = time.time()\n",
        "                  print(\"Model move :\")\n",
        "                  print(\"found a move in \" + format(endTime - startTime,\".1f\") + \" seconds\")\n",
        "                  print(SF_move)\n",
        "                  board.push_uci(SF_move)\n",
        "                  full_game.add_main_variation(SF_move)\n",
        "                  return board\n",
        "                stockfish2.set_fen_position(board.fen())\n",
        "                # move = board.parse_san(stockfish.get_best_move())\n",
        "                move = stockfish2.get_best_move()\n",
        "                bestMove = move\n",
        "                break\n",
        "                if beta == 1:\n",
        "                    beta = best\n",
        "            else:\n",
        "                new_best = netPredict(best,alphabeta(new_board,depth-1,alpha,beta,True))[1]\n",
        "                if new_best != best:\n",
        "                    bestMove = move\n",
        "                    best = new_best\n",
        "                beta = netPredict(beta,best)[1]\n",
        "\n",
        "    else:\n",
        "        for move in board.legal_moves:\n",
        "            new_board = board.copy()\n",
        "            new_board.push(move)\n",
        "            if best == -1:\n",
        "                best = alphabeta(new_board,depth-1,alpha,beta,False) \n",
        "                stockfish.set_fen_position(board.fen())\n",
        "                # move = board.parse_san(stockfish.get_best_move())\n",
        "                move = stockfish.get_best_move()\n",
        "                bestMove = move\n",
        "                break\n",
        "                if alpha == -1:\n",
        "                    alpha = best\n",
        "            else:\n",
        "                new_best = netPredict(best,alphabeta(new_board,depth-1,alpha,beta,False))[0]\n",
        "                if new_best != best:\n",
        "                    bestMove = move\n",
        "                    best = new_best\n",
        "                alpha = netPredict(alpha,best)[0] \n",
        "    #time.sleep(60)\n",
        "    endTime = time.time()\n",
        "    print(\"Model move :\")\n",
        "    print(\"found a move in \" + format(endTime - startTime,\".1f\") + \" seconds\")\n",
        "    \n",
        "    print(bestMove)\n",
        "    board.push_uci(bestMove)\n",
        "    full_game.add_main_variation(bestMove)\n",
        "    return board\n",
        "\n",
        "def playerMove(board):\n",
        "      while True:\n",
        "          try:\n",
        "              move = input('Enter a move:\\n')\n",
        "              board.push_san(move)\n",
        "              break\n",
        "          except ValueError:\n",
        "              print('Illegal move, try again')\n",
        "      return board      "
      ],
      "execution_count": null,
      "outputs": []
    },
    {
      "cell_type": "code",
      "metadata": {
        "colab": {
          "base_uri": "https://localhost:8080/"
        },
        "id": "S-oB0pYMa3X3",
        "outputId": "9e6abe72-8ee7-4e36-dc49-e8a5fa53d43a"
      },
      "source": [
        "!pip install stockfish"
      ],
      "execution_count": null,
      "outputs": [
        {
          "output_type": "stream",
          "text": [
            "Collecting stockfish\n",
            "  Downloading https://files.pythonhosted.org/packages/2d/46/aa2dc4e3958ac2cd4e886be2d980f8854028440984662f129e794e570538/stockfish-3.14.0-py3-none-any.whl\n",
            "Installing collected packages: stockfish\n",
            "Successfully installed stockfish-3.14.0\n"
          ],
          "name": "stdout"
        }
      ]
    },
    {
      "cell_type": "code",
      "metadata": {
        "colab": {
          "base_uri": "https://localhost:8080/"
        },
        "id": "MYNHIFfdc0sf",
        "outputId": "a0979b0c-c0b3-49dc-c85c-bb3558b0f9aa"
      },
      "source": [
        "!wget https://stockfishchess.org/files/stockfish_13_linux_x64_bmi2.zip"
      ],
      "execution_count": null,
      "outputs": [
        {
          "output_type": "stream",
          "text": [
            "--2021-04-25 16:10:05--  https://stockfishchess.org/files/stockfish_13_linux_x64_bmi2.zip\n",
            "Resolving stockfishchess.org (stockfishchess.org)... 104.25.158.9, 172.67.80.249, 104.25.159.9, ...\n",
            "Connecting to stockfishchess.org (stockfishchess.org)|104.25.158.9|:443... connected.\n",
            "HTTP request sent, awaiting response... 200 OK\n",
            "Length: 12509627 (12M) [application/zip]\n",
            "Saving to: ‘stockfish_13_linux_x64_bmi2.zip’\n",
            "\n",
            "stockfish_13_linux_ 100%[===================>]  11.93M  31.0MB/s    in 0.4s    \n",
            "\n",
            "2021-04-25 16:10:05 (31.0 MB/s) - ‘stockfish_13_linux_x64_bmi2.zip’ saved [12509627/12509627]\n",
            "\n"
          ],
          "name": "stdout"
        }
      ]
    },
    {
      "cell_type": "code",
      "metadata": {
        "id": "Pu8_t9FOc9D5"
      },
      "source": [
        "!unzip stockfish_13_linux_x64_bmi2.zip"
      ],
      "execution_count": null,
      "outputs": []
    },
    {
      "cell_type": "code",
      "metadata": {
        "id": "uq-WoFHG3eR7",
        "colab": {
          "base_uri": "https://localhost:8080/"
        },
        "outputId": "420fec2b-3130-475a-eb3e-68cc409bcd36"
      },
      "source": [
        "from IPython.display import clear_output\n",
        "from google.colab import output\n",
        "\n",
        "from stockfish import Stockfish\n",
        "\n",
        "stockfish = Stockfish(\"/content/stockfish_13_linux_x64_bmi2/stockfish_13_linux_x64_bmi2\")\n",
        "stockfish2 = Stockfish(\"/content/stockfish_13_linux_x64_bmi2/stockfish_13_linux_x64_bmi2\")\n",
        "stockfish2.set_elo_rating(700)\n",
        "def playGame(rhino_dict=\"/content/DeepChess_weights.pth\"):\n",
        "    global rhino \n",
        "    global full_game\n",
        "    global board\n",
        "  \n",
        "    rhino = DeepChess()\n",
        "    rhino.load_state_dict(torch.load(rhino_dict))\n",
        "    full_game = chess.pgn.Game()\n",
        "\n",
        "    board = chess.Board()\n",
        "\n",
        "    model_mode = int(input(\"Type '1' to play against the model \\nType '2' to set the model against Stockfish\\n\"))\n",
        "    max_depth = int(input(\"Set alphabeta's maximum search depth\\n\"))\n",
        "\n",
        "    if model_mode == 1:\n",
        "        isPlayerTurn = bool(random.randint(0,1))\n",
        "        computerColour = not isPlayerTurn\n",
        "        while board.is_game_over() == False:\n",
        "            showBoard(board,flip=computerColour)\n",
        "            if isPlayerTurn:\n",
        "                board = playerMove(board)\n",
        "            else:\n",
        "                board = computerMove(board,max_depth,computerColour) \n",
        "\n",
        "            isPlayerTurn = not isPlayerTurn  \n",
        "        # clear_output()\n",
        "        output.clear()\n",
        "        showBoard(board,flip=computerColour) # show final position\n",
        "\n",
        "   \n",
        "    if model_mode == 2:\n",
        "        SF_elo = int(input(\"Input desired StockFish elo score\\n\"))\n",
        "        stockfish.set_elo_rating(SF_elo)\n",
        "        isPlayerTurn = bool(random.randint(0,1))\n",
        "        if isPlayerTurn == 1: \n",
        "          SFcolor = \"White\" \n",
        "        else :\n",
        "          SFcolor = \"Black\"\n",
        "        \n",
        "        print(\"Stockfish is playing white ? : \"+ str(isPlayerTurn))\n",
        "        computerColour = not isPlayerTurn\n",
        "        while board.is_game_over() == False:\n",
        "            showBoard(board,flip=computerColour)\n",
        "            if isPlayerTurn:\n",
        "\n",
        "                stockfish.set_fen_position(board.fen())\n",
        "                SF_move = stockfish.get_best_move()\n",
        "                print(\"StockFish move:\")\n",
        "                print(SF_move)\n",
        "                # print(\"type:\")\n",
        "                # print(type(SF_move))\n",
        "                board.push_uci(SF_move)\n",
        "            else:\n",
        "                board = computerMove(board,max_depth,computerColour) \n",
        "\n",
        "            isPlayerTurn = not isPlayerTurn  \n",
        "        # clear_output()\n",
        "        output.clear()\n",
        "        showBoard(board,flip=computerColour) # show final position\n",
        "\n",
        "    # Print Results\n",
        "    if board.is_checkmate():\n",
        "        print(\"Checkmate\")\n",
        "    elif board.is_stalemate():\n",
        "        print(\"Draw: Stalemate\")\n",
        "    elif board.is_insufficient_material():\n",
        "        print(\"Draw: Insufficient Material\")\n",
        "\n",
        "    print('game ends')\n",
        "    print(\"Stockfish was playing  : \"+ str(SFcolor))\n",
        "    print(\"StockFish was playing at elo:\" + str(SF_elo))"
      ],
      "execution_count": null,
      "outputs": [
        {
          "output_type": "stream",
          "text": [
            "Exception ignored in: <function Stockfish.__del__ at 0x7f4bdef75f80>\n",
            "Traceback (most recent call last):\n",
            "  File \"/usr/local/lib/python3.7/dist-packages/stockfish/models.py\", line 291, in __del__\n",
            "    self._put(\"quit\")\n",
            "  File \"/usr/local/lib/python3.7/dist-packages/stockfish/models.py\", line 72, in _put\n",
            "    self.stockfish.stdin.flush()\n",
            "BrokenPipeError: [Errno 32] Broken pipe\n"
          ],
          "name": "stderr"
        }
      ]
    },
    {
      "cell_type": "code",
      "metadata": {
        "id": "N8LZJ9ODK4cV"
      },
      "source": [
        "def playPuzzle(rhino_dict=\"/content/DeepChess_weights.pth\"):\n",
        "    global rhino \n",
        "    global full_game\n",
        "  \n",
        "    rhino = DeepChess()\n",
        "    rhino.load_state_dict(torch.load(rhino_dict))\n",
        "    full_game = chess.pgn.Game()\n",
        "\n",
        "    max_depth = int(input(\"Set alphabeta's maximum search depth\\n\"))\n",
        "    fen_game = str(input(\"Paste fen string\\n\"))\n",
        "    playerColour = int(input(\"is deepchess playing with white ? 1/0\\n\"))\n",
        "\n",
        "    board = chess.Board(fen=fen_game)\n",
        "    print(\"\\n original board\")\n",
        "    showBoard(board)\n",
        "\n",
        "    if playerColour == 1:\n",
        "      board = computerMove(board,max_depth,True)\n",
        "    else:\n",
        "      board = computerMove(board,max_depth,False)\n",
        "    \n",
        "    print(\"\\n predicted move\")\n",
        "    showBoard(board)"
      ],
      "execution_count": null,
      "outputs": []
    },
    {
      "cell_type": "code",
      "metadata": {
        "id": "siMUVfBP3hnb",
        "colab": {
          "base_uri": "https://localhost:8080/",
          "height": 395
        },
        "outputId": "acacdf12-8e8b-4b08-b5fc-14a3efbec68d"
      },
      "source": [
        "playGame()"
      ],
      "execution_count": null,
      "outputs": [
        {
          "output_type": "display_data",
          "data": {
            "text/plain": [
              "<IPython.core.display.SVG object>"
            ],
            "image/svg+xml": "<svg height=\"300\" version=\"1.1\" viewBox=\"0 0 400 400\" width=\"300\" xmlns=\"http://www.w3.org/2000/svg\" xmlns:xlink=\"http://www.w3.org/1999/xlink\"><defs><g class=\"white pawn\" id=\"white-pawn\"><path d=\"M22 9c-2.21 0-4 1.79-4 4 0 .89.29 1.71.78 2.38-1.95 1.12-3.28 3.21-3.28 5.62 0 2.03.94 3.84 2.41 5.03-3 1.06-7.41 5.55-7.41 13.47h23c0-7.92-4.41-12.41-7.41-13.47 1.47-1.19 2.41-3 2.41-5.03 0-2.41-1.33-4.5-3.28-5.62.49-.67.78-1.49.78-2.38 0-2.21-1.79-4-4-4z\" fill=\"#fff\" stroke=\"#000\" stroke-linecap=\"round\" stroke-width=\"1.5\"/></g><g class=\"white bishop\" fill=\"none\" fill-rule=\"evenodd\" id=\"white-bishop\" stroke=\"#000\" stroke-linecap=\"round\" stroke-linejoin=\"round\" stroke-width=\"1.5\"><g fill=\"#fff\" stroke-linecap=\"butt\"><path d=\"M9 36c3.39-.97 10.11.43 13.5-2 3.39 2.43 10.11 1.03 13.5 2 0 0 1.65.54 3 2-.68.97-1.65.99-3 .5-3.39-.97-10.11.46-13.5-1-3.39 1.46-10.11.03-13.5 1-1.354.49-2.323.47-3-.5 1.354-1.94 3-2 3-2zM15 32c2.5 2.5 12.5 2.5 15 0 .5-1.5 0-2 0-2 0-2.5-2.5-4-2.5-4 5.5-1.5 6-11.5-5-15.5-11 4-10.5 14-5 15.5 0 0-2.5 1.5-2.5 4 0 0-.5.5 0 2zM25 8a2.5 2.5 0 1 1-5 0 2.5 2.5 0 1 1 5 0z\"/></g><path d=\"M17.5 26h10M15 30h15m-7.5-14.5v5M20 18h5\" stroke-linejoin=\"miter\"/></g><g class=\"white queen\" fill=\"#fff\" fill-rule=\"evenodd\" id=\"white-queen\" stroke=\"#000\" stroke-linecap=\"round\" stroke-linejoin=\"round\" stroke-width=\"1.5\"><path d=\"M8 12a2 2 0 1 1-4 0 2 2 0 1 1 4 0zM24.5 7.5a2 2 0 1 1-4 0 2 2 0 1 1 4 0zM41 12a2 2 0 1 1-4 0 2 2 0 1 1 4 0zM16 8.5a2 2 0 1 1-4 0 2 2 0 1 1 4 0zM33 9a2 2 0 1 1-4 0 2 2 0 1 1 4 0z\"/><path d=\"M9 26c8.5-1.5 21-1.5 27 0l2-12-7 11V11l-5.5 13.5-3-15-3 15-5.5-14V25L7 14l2 12zM9 26c0 2 1.5 2 2.5 4 1 1.5 1 1 .5 3.5-1.5 1-1.5 2.5-1.5 2.5-1.5 1.5.5 2.5.5 2.5 6.5 1 16.5 1 23 0 0 0 1.5-1 0-2.5 0 0 .5-1.5-1-2.5-.5-2.5-.5-2 .5-3.5 1-2 2.5-2 2.5-4-8.5-1.5-18.5-1.5-27 0z\" stroke-linecap=\"butt\"/><path d=\"M11.5 30c3.5-1 18.5-1 22 0M12 33.5c6-1 15-1 21 0\" fill=\"none\"/></g><g class=\"white king\" fill=\"none\" fill-rule=\"evenodd\" id=\"white-king\" stroke=\"#000\" stroke-linecap=\"round\" stroke-linejoin=\"round\" stroke-width=\"1.5\"><path d=\"M22.5 11.63V6M20 8h5\" stroke-linejoin=\"miter\"/><path d=\"M22.5 25s4.5-7.5 3-10.5c0 0-1-2.5-3-2.5s-3 2.5-3 2.5c-1.5 3 3 10.5 3 10.5\" fill=\"#fff\" stroke-linecap=\"butt\" stroke-linejoin=\"miter\"/><path d=\"M11.5 37c5.5 3.5 15.5 3.5 21 0v-7s9-4.5 6-10.5c-4-6.5-13.5-3.5-16 4V27v-3.5c-3.5-7.5-13-10.5-16-4-3 6 5 10 5 10V37z\" fill=\"#fff\"/><path d=\"M11.5 30c5.5-3 15.5-3 21 0m-21 3.5c5.5-3 15.5-3 21 0m-21 3.5c5.5-3 15.5-3 21 0\"/></g><g class=\"black pawn\" id=\"black-pawn\"><path d=\"M22 9c-2.21 0-4 1.79-4 4 0 .89.29 1.71.78 2.38-1.95 1.12-3.28 3.21-3.28 5.62 0 2.03.94 3.84 2.41 5.03-3 1.06-7.41 5.55-7.41 13.47h23c0-7.92-4.41-12.41-7.41-13.47 1.47-1.19 2.41-3 2.41-5.03 0-2.41-1.33-4.5-3.28-5.62.49-.67.78-1.49.78-2.38 0-2.21-1.79-4-4-4z\" stroke=\"#000\" stroke-linecap=\"round\" stroke-width=\"1.5\"/></g><g class=\"black king\" fill=\"none\" fill-rule=\"evenodd\" id=\"black-king\" stroke=\"#000\" stroke-linecap=\"round\" stroke-linejoin=\"round\" stroke-width=\"1.5\"><path d=\"M22.5 11.63V6\" stroke-linejoin=\"miter\"/><path d=\"M22.5 25s4.5-7.5 3-10.5c0 0-1-2.5-3-2.5s-3 2.5-3 2.5c-1.5 3 3 10.5 3 10.5\" fill=\"#000\" stroke-linecap=\"butt\" stroke-linejoin=\"miter\"/><path d=\"M11.5 37c5.5 3.5 15.5 3.5 21 0v-7s9-4.5 6-10.5c-4-6.5-13.5-3.5-16 4V27v-3.5c-3.5-7.5-13-10.5-16-4-3 6 5 10 5 10V37z\" fill=\"#000\"/><path d=\"M20 8h5\" stroke-linejoin=\"miter\"/><path d=\"M32 29.5s8.5-4 6.03-9.65C34.15 14 25 18 22.5 24.5l.01 2.1-.01-2.1C20 18 9.906 14 6.997 19.85c-2.497 5.65 4.853 9 4.853 9M11.5 30c5.5-3 15.5-3 21 0m-21 3.5c5.5-3 15.5-3 21 0m-21 3.5c5.5-3 15.5-3 21 0\" stroke=\"#fff\"/></g></defs><rect class=\"square dark a1\" fill=\"#d18b47\" height=\"45\" stroke=\"none\" width=\"45\" x=\"335\" y=\"20\"/><rect class=\"square light b1\" fill=\"#ffce9e\" height=\"45\" stroke=\"none\" width=\"45\" x=\"290\" y=\"20\"/><rect class=\"square dark c1\" fill=\"#d18b47\" height=\"45\" stroke=\"none\" width=\"45\" x=\"245\" y=\"20\"/><rect class=\"square light d1\" fill=\"#ffce9e\" height=\"45\" stroke=\"none\" width=\"45\" x=\"200\" y=\"20\"/><rect class=\"square dark e1\" fill=\"#d18b47\" height=\"45\" stroke=\"none\" width=\"45\" x=\"155\" y=\"20\"/><rect class=\"square light f1\" fill=\"#ffce9e\" height=\"45\" stroke=\"none\" width=\"45\" x=\"110\" y=\"20\"/><rect class=\"square dark g1\" fill=\"#d18b47\" height=\"45\" stroke=\"none\" width=\"45\" x=\"65\" y=\"20\"/><rect class=\"square light h1\" fill=\"#ffce9e\" height=\"45\" stroke=\"none\" width=\"45\" x=\"20\" y=\"20\"/><rect class=\"square light a2\" fill=\"#ffce9e\" height=\"45\" stroke=\"none\" width=\"45\" x=\"335\" y=\"65\"/><rect class=\"square dark b2\" fill=\"#d18b47\" height=\"45\" stroke=\"none\" width=\"45\" x=\"290\" y=\"65\"/><rect class=\"square light c2\" fill=\"#ffce9e\" height=\"45\" stroke=\"none\" width=\"45\" x=\"245\" y=\"65\"/><rect class=\"square dark d2\" fill=\"#d18b47\" height=\"45\" stroke=\"none\" width=\"45\" x=\"200\" y=\"65\"/><rect class=\"square light e2\" fill=\"#ffce9e\" height=\"45\" stroke=\"none\" width=\"45\" x=\"155\" y=\"65\"/><use transform=\"translate(155, 65)\" xlink:href=\"#white-bishop\"/><rect class=\"square dark f2\" fill=\"#d18b47\" height=\"45\" stroke=\"none\" width=\"45\" x=\"110\" y=\"65\"/><rect class=\"square light g2\" fill=\"#ffce9e\" height=\"45\" stroke=\"none\" width=\"45\" x=\"65\" y=\"65\"/><use transform=\"translate(65, 65)\" xlink:href=\"#white-king\"/><rect class=\"square dark h2\" fill=\"#d18b47\" height=\"45\" stroke=\"none\" width=\"45\" x=\"20\" y=\"65\"/><rect class=\"square dark a3\" fill=\"#d18b47\" height=\"45\" stroke=\"none\" width=\"45\" x=\"335\" y=\"110\"/><rect class=\"square light b3\" fill=\"#ffce9e\" height=\"45\" stroke=\"none\" width=\"45\" x=\"290\" y=\"110\"/><rect class=\"square dark c3\" fill=\"#d18b47\" height=\"45\" stroke=\"none\" width=\"45\" x=\"245\" y=\"110\"/><rect class=\"square light d3\" fill=\"#ffce9e\" height=\"45\" stroke=\"none\" width=\"45\" x=\"200\" y=\"110\"/><rect class=\"square dark e3\" fill=\"#d18b47\" height=\"45\" stroke=\"none\" width=\"45\" x=\"155\" y=\"110\"/><rect class=\"square light f3\" fill=\"#ffce9e\" height=\"45\" stroke=\"none\" width=\"45\" x=\"110\" y=\"110\"/><rect class=\"square dark g3\" fill=\"#d18b47\" height=\"45\" stroke=\"none\" width=\"45\" x=\"65\" y=\"110\"/><rect class=\"square light h3\" fill=\"#ffce9e\" height=\"45\" stroke=\"none\" width=\"45\" x=\"20\" y=\"110\"/><rect class=\"square light a4\" fill=\"#ffce9e\" height=\"45\" stroke=\"none\" width=\"45\" x=\"335\" y=\"155\"/><rect class=\"square dark b4\" fill=\"#d18b47\" height=\"45\" stroke=\"none\" width=\"45\" x=\"290\" y=\"155\"/><rect class=\"square light c4\" fill=\"#ffce9e\" height=\"45\" stroke=\"none\" width=\"45\" x=\"245\" y=\"155\"/><rect class=\"square dark d4\" fill=\"#d18b47\" height=\"45\" stroke=\"none\" width=\"45\" x=\"200\" y=\"155\"/><rect class=\"square light e4\" fill=\"#ffce9e\" height=\"45\" stroke=\"none\" width=\"45\" x=\"155\" y=\"155\"/><rect class=\"square dark f4\" fill=\"#d18b47\" height=\"45\" stroke=\"none\" width=\"45\" x=\"110\" y=\"155\"/><rect class=\"square light g4\" fill=\"#ffce9e\" height=\"45\" stroke=\"none\" width=\"45\" x=\"65\" y=\"155\"/><rect class=\"square dark h4\" fill=\"#d18b47\" height=\"45\" stroke=\"none\" width=\"45\" x=\"20\" y=\"155\"/><use transform=\"translate(20, 155)\" xlink:href=\"#black-king\"/><rect class=\"square dark a5\" fill=\"#d18b47\" height=\"45\" stroke=\"none\" width=\"45\" x=\"335\" y=\"200\"/><rect class=\"square light b5\" fill=\"#ffce9e\" height=\"45\" stroke=\"none\" width=\"45\" x=\"290\" y=\"200\"/><rect class=\"square dark c5\" fill=\"#d18b47\" height=\"45\" stroke=\"none\" width=\"45\" x=\"245\" y=\"200\"/><rect class=\"square light d5\" fill=\"#ffce9e\" height=\"45\" stroke=\"none\" width=\"45\" x=\"200\" y=\"200\"/><rect class=\"square dark e5\" fill=\"#d18b47\" height=\"45\" stroke=\"none\" width=\"45\" x=\"155\" y=\"200\"/><rect class=\"square light f5\" fill=\"#ffce9e\" height=\"45\" stroke=\"none\" width=\"45\" x=\"110\" y=\"200\"/><rect class=\"square dark g5\" fill=\"#d18b47\" height=\"45\" stroke=\"none\" width=\"45\" x=\"65\" y=\"200\"/><rect class=\"square light h5\" fill=\"#ffce9e\" height=\"45\" stroke=\"none\" width=\"45\" x=\"20\" y=\"200\"/><rect class=\"square light a6\" fill=\"#ffce9e\" height=\"45\" stroke=\"none\" width=\"45\" x=\"335\" y=\"245\"/><use transform=\"translate(335, 245)\" xlink:href=\"#white-pawn\"/><rect class=\"square dark b6\" fill=\"#d18b47\" height=\"45\" stroke=\"none\" width=\"45\" x=\"290\" y=\"245\"/><use transform=\"translate(290, 245)\" xlink:href=\"#black-pawn\"/><rect class=\"square light c6\" fill=\"#ffce9e\" height=\"45\" stroke=\"none\" width=\"45\" x=\"245\" y=\"245\"/><rect class=\"square dark d6\" fill=\"#d18b47\" height=\"45\" stroke=\"none\" width=\"45\" x=\"200\" y=\"245\"/><rect class=\"square light e6\" fill=\"#ffce9e\" height=\"45\" stroke=\"none\" width=\"45\" x=\"155\" y=\"245\"/><rect class=\"square dark f6\" fill=\"#d18b47\" height=\"45\" stroke=\"none\" width=\"45\" x=\"110\" y=\"245\"/><use transform=\"translate(110, 245)\" xlink:href=\"#white-queen\"/><rect class=\"square light g6\" fill=\"#ffce9e\" height=\"45\" stroke=\"none\" width=\"45\" x=\"65\" y=\"245\"/><rect class=\"square dark h6\" fill=\"#d18b47\" height=\"45\" stroke=\"none\" width=\"45\" x=\"20\" y=\"245\"/><use transform=\"translate(20, 245)\" xlink:href=\"#black-pawn\"/><rect class=\"square dark a7\" fill=\"#d18b47\" height=\"45\" stroke=\"none\" width=\"45\" x=\"335\" y=\"290\"/><use transform=\"translate(335, 290)\" xlink:href=\"#black-pawn\"/><rect class=\"square light b7\" fill=\"#ffce9e\" height=\"45\" stroke=\"none\" width=\"45\" x=\"290\" y=\"290\"/><rect class=\"square dark c7\" fill=\"#d18b47\" height=\"45\" stroke=\"none\" width=\"45\" x=\"245\" y=\"290\"/><rect class=\"square light d7\" fill=\"#ffce9e\" height=\"45\" stroke=\"none\" width=\"45\" x=\"200\" y=\"290\"/><rect class=\"square dark e7\" fill=\"#d18b47\" height=\"45\" stroke=\"none\" width=\"45\" x=\"155\" y=\"290\"/><rect class=\"square light f7\" fill=\"#ffce9e\" height=\"45\" stroke=\"none\" width=\"45\" x=\"110\" y=\"290\"/><rect class=\"square dark g7\" fill=\"#d18b47\" height=\"45\" stroke=\"none\" width=\"45\" x=\"65\" y=\"290\"/><rect class=\"square light h7\" fill=\"#ffce9e\" height=\"45\" stroke=\"none\" width=\"45\" x=\"20\" y=\"290\"/><rect class=\"square light a8\" fill=\"#ffce9e\" height=\"45\" stroke=\"none\" width=\"45\" x=\"335\" y=\"335\"/><rect class=\"square dark b8\" fill=\"#d18b47\" height=\"45\" stroke=\"none\" width=\"45\" x=\"290\" y=\"335\"/><rect class=\"square light c8\" fill=\"#ffce9e\" height=\"45\" stroke=\"none\" width=\"45\" x=\"245\" y=\"335\"/><rect class=\"square dark d8\" fill=\"#d18b47\" height=\"45\" stroke=\"none\" width=\"45\" x=\"200\" y=\"335\"/><rect class=\"square light e8\" fill=\"#ffce9e\" height=\"45\" stroke=\"none\" width=\"45\" x=\"155\" y=\"335\"/><rect class=\"square dark f8\" fill=\"#d18b47\" height=\"45\" stroke=\"none\" width=\"45\" x=\"110\" y=\"335\"/><rect class=\"square light g8\" fill=\"#ffce9e\" height=\"45\" stroke=\"none\" width=\"45\" x=\"65\" y=\"335\"/><rect class=\"square dark h8\" fill=\"#d18b47\" height=\"45\" stroke=\"none\" width=\"45\" x=\"20\" y=\"335\"/><text alignment-baseline=\"middle\" font-size=\"14\" text-anchor=\"middle\" x=\"357\" y=\"10\">a</text><text alignment-baseline=\"middle\" font-size=\"14\" text-anchor=\"middle\" x=\"357\" y=\"390\">a</text><text alignment-baseline=\"middle\" font-size=\"14\" text-anchor=\"middle\" x=\"312\" y=\"10\">b</text><text alignment-baseline=\"middle\" font-size=\"14\" text-anchor=\"middle\" x=\"312\" y=\"390\">b</text><text alignment-baseline=\"middle\" font-size=\"14\" text-anchor=\"middle\" x=\"267\" y=\"10\">c</text><text alignment-baseline=\"middle\" font-size=\"14\" text-anchor=\"middle\" x=\"267\" y=\"390\">c</text><text alignment-baseline=\"middle\" font-size=\"14\" text-anchor=\"middle\" x=\"222\" y=\"10\">d</text><text alignment-baseline=\"middle\" font-size=\"14\" text-anchor=\"middle\" x=\"222\" y=\"390\">d</text><text alignment-baseline=\"middle\" font-size=\"14\" text-anchor=\"middle\" x=\"177\" y=\"10\">e</text><text alignment-baseline=\"middle\" font-size=\"14\" text-anchor=\"middle\" x=\"177\" y=\"390\">e</text><text alignment-baseline=\"middle\" font-size=\"14\" text-anchor=\"middle\" x=\"132\" y=\"10\">f</text><text alignment-baseline=\"middle\" font-size=\"14\" text-anchor=\"middle\" x=\"132\" y=\"390\">f</text><text alignment-baseline=\"middle\" font-size=\"14\" text-anchor=\"middle\" x=\"87\" y=\"10\">g</text><text alignment-baseline=\"middle\" font-size=\"14\" text-anchor=\"middle\" x=\"87\" y=\"390\">g</text><text alignment-baseline=\"middle\" font-size=\"14\" text-anchor=\"middle\" x=\"42\" y=\"10\">h</text><text alignment-baseline=\"middle\" font-size=\"14\" text-anchor=\"middle\" x=\"42\" y=\"390\">h</text><text alignment-baseline=\"middle\" font-size=\"14\" text-anchor=\"middle\" x=\"10\" y=\"42\">1</text><text alignment-baseline=\"middle\" font-size=\"14\" text-anchor=\"middle\" x=\"390\" y=\"42\">1</text><text alignment-baseline=\"middle\" font-size=\"14\" text-anchor=\"middle\" x=\"10\" y=\"87\">2</text><text alignment-baseline=\"middle\" font-size=\"14\" text-anchor=\"middle\" x=\"390\" y=\"87\">2</text><text alignment-baseline=\"middle\" font-size=\"14\" text-anchor=\"middle\" x=\"10\" y=\"132\">3</text><text alignment-baseline=\"middle\" font-size=\"14\" text-anchor=\"middle\" x=\"390\" y=\"132\">3</text><text alignment-baseline=\"middle\" font-size=\"14\" text-anchor=\"middle\" x=\"10\" y=\"177\">4</text><text alignment-baseline=\"middle\" font-size=\"14\" text-anchor=\"middle\" x=\"390\" y=\"177\">4</text><text alignment-baseline=\"middle\" font-size=\"14\" text-anchor=\"middle\" x=\"10\" y=\"222\">5</text><text alignment-baseline=\"middle\" font-size=\"14\" text-anchor=\"middle\" x=\"390\" y=\"222\">5</text><text alignment-baseline=\"middle\" font-size=\"14\" text-anchor=\"middle\" x=\"10\" y=\"267\">6</text><text alignment-baseline=\"middle\" font-size=\"14\" text-anchor=\"middle\" x=\"390\" y=\"267\">6</text><text alignment-baseline=\"middle\" font-size=\"14\" text-anchor=\"middle\" x=\"10\" y=\"312\">7</text><text alignment-baseline=\"middle\" font-size=\"14\" text-anchor=\"middle\" x=\"390\" y=\"312\">7</text><text alignment-baseline=\"middle\" font-size=\"14\" text-anchor=\"middle\" x=\"10\" y=\"357\">8</text><text alignment-baseline=\"middle\" font-size=\"14\" text-anchor=\"middle\" x=\"390\" y=\"357\">8</text></svg>"
          },
          "metadata": {
            "tags": []
          }
        },
        {
          "output_type": "stream",
          "text": [
            "Checkmate\n",
            "game ends\n",
            "Stockfish was playing  : Black\n",
            "StockFish was playing at elo:1200\n"
          ],
          "name": "stdout"
        }
      ]
    },
    {
      "cell_type": "code",
      "metadata": {
        "id": "ne0GNJ8UHRe2",
        "colab": {
          "base_uri": "https://localhost:8080/",
          "height": 885
        },
        "outputId": "a964f2da-5f51-4f53-dcb2-32542c5f2a8c"
      },
      "source": [
        "playPuzzle()"
      ],
      "execution_count": null,
      "outputs": [
        {
          "output_type": "stream",
          "text": [
            "Set alphabeta's maximum search depth\n",
            "3\n",
            "Paste fen string\n",
            "7k/5rpP/8/p7/Np1p1p2/4nP1R/PP3r2/1KR5 w - - 0 1\n",
            "is deepchess playing with white ? 1/0\n",
            "1\n",
            "\n",
            " original board\n"
          ],
          "name": "stdout"
        },
        {
          "output_type": "display_data",
          "data": {
            "text/plain": [
              "<IPython.core.display.SVG object>"
            ],
            "image/svg+xml": "<svg height=\"300\" version=\"1.1\" viewBox=\"0 0 400 400\" width=\"300\" xmlns=\"http://www.w3.org/2000/svg\" xmlns:xlink=\"http://www.w3.org/1999/xlink\"><defs><g class=\"white pawn\" id=\"white-pawn\"><path d=\"M22 9c-2.21 0-4 1.79-4 4 0 .89.29 1.71.78 2.38-1.95 1.12-3.28 3.21-3.28 5.62 0 2.03.94 3.84 2.41 5.03-3 1.06-7.41 5.55-7.41 13.47h23c0-7.92-4.41-12.41-7.41-13.47 1.47-1.19 2.41-3 2.41-5.03 0-2.41-1.33-4.5-3.28-5.62.49-.67.78-1.49.78-2.38 0-2.21-1.79-4-4-4z\" fill=\"#fff\" stroke=\"#000\" stroke-linecap=\"round\" stroke-width=\"1.5\"/></g><g class=\"white knight\" fill=\"none\" fill-rule=\"evenodd\" id=\"white-knight\" stroke=\"#000\" stroke-linecap=\"round\" stroke-linejoin=\"round\" stroke-width=\"1.5\"><path d=\"M 22,10 C 32.5,11 38.5,18 38,39 L 15,39 C 15,30 25,32.5 23,18\" style=\"fill:#ffffff; stroke:#000000;\"/><path d=\"M 24,18 C 24.38,20.91 18.45,25.37 16,27 C 13,29 13.18,31.34 11,31 C 9.958,30.06 12.41,27.96 11,28 C 10,28 11.19,29.23 10,30 C 9,30 5.997,31 6,26 C 6,24 12,14 12,14 C 12,14 13.89,12.1 14,10.5 C 13.27,9.506 13.5,8.5 13.5,7.5 C 14.5,6.5 16.5,10 16.5,10 L 18.5,10 C 18.5,10 19.28,8.008 21,7 C 22,7 22,10 22,10\" style=\"fill:#ffffff; stroke:#000000;\"/><path d=\"M 9.5 25.5 A 0.5 0.5 0 1 1 8.5,25.5 A 0.5 0.5 0 1 1 9.5 25.5 z\" style=\"fill:#000000; stroke:#000000;\"/><path d=\"M 15 15.5 A 0.5 1.5 0 1 1 14,15.5 A 0.5 1.5 0 1 1 15 15.5 z\" style=\"fill:#000000; stroke:#000000;\" transform=\"matrix(0.866,0.5,-0.5,0.866,9.693,-5.173)\"/></g><g class=\"white rook\" fill=\"#fff\" fill-rule=\"evenodd\" id=\"white-rook\" stroke=\"#000\" stroke-linecap=\"round\" stroke-linejoin=\"round\" stroke-width=\"1.5\"><path d=\"M9 39h27v-3H9v3zM12 36v-4h21v4H12zM11 14V9h4v2h5V9h5v2h5V9h4v5\" stroke-linecap=\"butt\"/><path d=\"M34 14l-3 3H14l-3-3\"/><path d=\"M31 17v12.5H14V17\" stroke-linecap=\"butt\" stroke-linejoin=\"miter\"/><path d=\"M31 29.5l1.5 2.5h-20l1.5-2.5\"/><path d=\"M11 14h23\" fill=\"none\" stroke-linejoin=\"miter\"/></g><g class=\"white king\" fill=\"none\" fill-rule=\"evenodd\" id=\"white-king\" stroke=\"#000\" stroke-linecap=\"round\" stroke-linejoin=\"round\" stroke-width=\"1.5\"><path d=\"M22.5 11.63V6M20 8h5\" stroke-linejoin=\"miter\"/><path d=\"M22.5 25s4.5-7.5 3-10.5c0 0-1-2.5-3-2.5s-3 2.5-3 2.5c-1.5 3 3 10.5 3 10.5\" fill=\"#fff\" stroke-linecap=\"butt\" stroke-linejoin=\"miter\"/><path d=\"M11.5 37c5.5 3.5 15.5 3.5 21 0v-7s9-4.5 6-10.5c-4-6.5-13.5-3.5-16 4V27v-3.5c-3.5-7.5-13-10.5-16-4-3 6 5 10 5 10V37z\" fill=\"#fff\"/><path d=\"M11.5 30c5.5-3 15.5-3 21 0m-21 3.5c5.5-3 15.5-3 21 0m-21 3.5c5.5-3 15.5-3 21 0\"/></g><g class=\"black pawn\" id=\"black-pawn\"><path d=\"M22 9c-2.21 0-4 1.79-4 4 0 .89.29 1.71.78 2.38-1.95 1.12-3.28 3.21-3.28 5.62 0 2.03.94 3.84 2.41 5.03-3 1.06-7.41 5.55-7.41 13.47h23c0-7.92-4.41-12.41-7.41-13.47 1.47-1.19 2.41-3 2.41-5.03 0-2.41-1.33-4.5-3.28-5.62.49-.67.78-1.49.78-2.38 0-2.21-1.79-4-4-4z\" stroke=\"#000\" stroke-linecap=\"round\" stroke-width=\"1.5\"/></g><g class=\"black knight\" fill=\"none\" fill-rule=\"evenodd\" id=\"black-knight\" stroke=\"#000\" stroke-linecap=\"round\" stroke-linejoin=\"round\" stroke-width=\"1.5\"><path d=\"M 22,10 C 32.5,11 38.5,18 38,39 L 15,39 C 15,30 25,32.5 23,18\" style=\"fill:#000000; stroke:#000000;\"/><path d=\"M 24,18 C 24.38,20.91 18.45,25.37 16,27 C 13,29 13.18,31.34 11,31 C 9.958,30.06 12.41,27.96 11,28 C 10,28 11.19,29.23 10,30 C 9,30 5.997,31 6,26 C 6,24 12,14 12,14 C 12,14 13.89,12.1 14,10.5 C 13.27,9.506 13.5,8.5 13.5,7.5 C 14.5,6.5 16.5,10 16.5,10 L 18.5,10 C 18.5,10 19.28,8.008 21,7 C 22,7 22,10 22,10\" style=\"fill:#000000; stroke:#000000;\"/><path d=\"M 9.5 25.5 A 0.5 0.5 0 1 1 8.5,25.5 A 0.5 0.5 0 1 1 9.5 25.5 z\" style=\"fill:#ececec; stroke:#ececec;\"/><path d=\"M 15 15.5 A 0.5 1.5 0 1 1 14,15.5 A 0.5 1.5 0 1 1 15 15.5 z\" style=\"fill:#ececec; stroke:#ececec;\" transform=\"matrix(0.866,0.5,-0.5,0.866,9.693,-5.173)\"/><path d=\"M 24.55,10.4 L 24.1,11.85 L 24.6,12 C 27.75,13 30.25,14.49 32.5,18.75 C 34.75,23.01 35.75,29.06 35.25,39 L 35.2,39.5 L 37.45,39.5 L 37.5,39 C 38,28.94 36.62,22.15 34.25,17.66 C 31.88,13.17 28.46,11.02 25.06,10.5 L 24.55,10.4 z \" style=\"fill:#ececec; stroke:none;\"/></g><g class=\"black rook\" fill=\"#000\" fill-rule=\"evenodd\" id=\"black-rook\" stroke=\"#000\" stroke-linecap=\"round\" stroke-linejoin=\"round\" stroke-width=\"1.5\"><path d=\"M9 39h27v-3H9v3zM12.5 32l1.5-2.5h17l1.5 2.5h-20zM12 36v-4h21v4H12z\" stroke-linecap=\"butt\"/><path d=\"M14 29.5v-13h17v13H14z\" stroke-linecap=\"butt\" stroke-linejoin=\"miter\"/><path d=\"M14 16.5L11 14h23l-3 2.5H14zM11 14V9h4v2h5V9h5v2h5V9h4v5H11z\" stroke-linecap=\"butt\"/><path d=\"M12 35.5h21M13 31.5h19M14 29.5h17M14 16.5h17M11 14h23\" fill=\"none\" stroke=\"#fff\" stroke-linejoin=\"miter\" stroke-width=\"1\"/></g><g class=\"black king\" fill=\"none\" fill-rule=\"evenodd\" id=\"black-king\" stroke=\"#000\" stroke-linecap=\"round\" stroke-linejoin=\"round\" stroke-width=\"1.5\"><path d=\"M22.5 11.63V6\" stroke-linejoin=\"miter\"/><path d=\"M22.5 25s4.5-7.5 3-10.5c0 0-1-2.5-3-2.5s-3 2.5-3 2.5c-1.5 3 3 10.5 3 10.5\" fill=\"#000\" stroke-linecap=\"butt\" stroke-linejoin=\"miter\"/><path d=\"M11.5 37c5.5 3.5 15.5 3.5 21 0v-7s9-4.5 6-10.5c-4-6.5-13.5-3.5-16 4V27v-3.5c-3.5-7.5-13-10.5-16-4-3 6 5 10 5 10V37z\" fill=\"#000\"/><path d=\"M20 8h5\" stroke-linejoin=\"miter\"/><path d=\"M32 29.5s8.5-4 6.03-9.65C34.15 14 25 18 22.5 24.5l.01 2.1-.01-2.1C20 18 9.906 14 6.997 19.85c-2.497 5.65 4.853 9 4.853 9M11.5 30c5.5-3 15.5-3 21 0m-21 3.5c5.5-3 15.5-3 21 0m-21 3.5c5.5-3 15.5-3 21 0\" stroke=\"#fff\"/></g></defs><rect class=\"square dark a1\" fill=\"#d18b47\" height=\"45\" stroke=\"none\" width=\"45\" x=\"20\" y=\"335\"/><rect class=\"square light b1\" fill=\"#ffce9e\" height=\"45\" stroke=\"none\" width=\"45\" x=\"65\" y=\"335\"/><use transform=\"translate(65, 335)\" xlink:href=\"#white-king\"/><rect class=\"square dark c1\" fill=\"#d18b47\" height=\"45\" stroke=\"none\" width=\"45\" x=\"110\" y=\"335\"/><use transform=\"translate(110, 335)\" xlink:href=\"#white-rook\"/><rect class=\"square light d1\" fill=\"#ffce9e\" height=\"45\" stroke=\"none\" width=\"45\" x=\"155\" y=\"335\"/><rect class=\"square dark e1\" fill=\"#d18b47\" height=\"45\" stroke=\"none\" width=\"45\" x=\"200\" y=\"335\"/><rect class=\"square light f1\" fill=\"#ffce9e\" height=\"45\" stroke=\"none\" width=\"45\" x=\"245\" y=\"335\"/><rect class=\"square dark g1\" fill=\"#d18b47\" height=\"45\" stroke=\"none\" width=\"45\" x=\"290\" y=\"335\"/><rect class=\"square light h1\" fill=\"#ffce9e\" height=\"45\" stroke=\"none\" width=\"45\" x=\"335\" y=\"335\"/><rect class=\"square light a2\" fill=\"#ffce9e\" height=\"45\" stroke=\"none\" width=\"45\" x=\"20\" y=\"290\"/><use transform=\"translate(20, 290)\" xlink:href=\"#white-pawn\"/><rect class=\"square dark b2\" fill=\"#d18b47\" height=\"45\" stroke=\"none\" width=\"45\" x=\"65\" y=\"290\"/><use transform=\"translate(65, 290)\" xlink:href=\"#white-pawn\"/><rect class=\"square light c2\" fill=\"#ffce9e\" height=\"45\" stroke=\"none\" width=\"45\" x=\"110\" y=\"290\"/><rect class=\"square dark d2\" fill=\"#d18b47\" height=\"45\" stroke=\"none\" width=\"45\" x=\"155\" y=\"290\"/><rect class=\"square light e2\" fill=\"#ffce9e\" height=\"45\" stroke=\"none\" width=\"45\" x=\"200\" y=\"290\"/><rect class=\"square dark f2\" fill=\"#d18b47\" height=\"45\" stroke=\"none\" width=\"45\" x=\"245\" y=\"290\"/><use transform=\"translate(245, 290)\" xlink:href=\"#black-rook\"/><rect class=\"square light g2\" fill=\"#ffce9e\" height=\"45\" stroke=\"none\" width=\"45\" x=\"290\" y=\"290\"/><rect class=\"square dark h2\" fill=\"#d18b47\" height=\"45\" stroke=\"none\" width=\"45\" x=\"335\" y=\"290\"/><rect class=\"square dark a3\" fill=\"#d18b47\" height=\"45\" stroke=\"none\" width=\"45\" x=\"20\" y=\"245\"/><rect class=\"square light b3\" fill=\"#ffce9e\" height=\"45\" stroke=\"none\" width=\"45\" x=\"65\" y=\"245\"/><rect class=\"square dark c3\" fill=\"#d18b47\" height=\"45\" stroke=\"none\" width=\"45\" x=\"110\" y=\"245\"/><rect class=\"square light d3\" fill=\"#ffce9e\" height=\"45\" stroke=\"none\" width=\"45\" x=\"155\" y=\"245\"/><rect class=\"square dark e3\" fill=\"#d18b47\" height=\"45\" stroke=\"none\" width=\"45\" x=\"200\" y=\"245\"/><use transform=\"translate(200, 245)\" xlink:href=\"#black-knight\"/><rect class=\"square light f3\" fill=\"#ffce9e\" height=\"45\" stroke=\"none\" width=\"45\" x=\"245\" y=\"245\"/><use transform=\"translate(245, 245)\" xlink:href=\"#white-pawn\"/><rect class=\"square dark g3\" fill=\"#d18b47\" height=\"45\" stroke=\"none\" width=\"45\" x=\"290\" y=\"245\"/><rect class=\"square light h3\" fill=\"#ffce9e\" height=\"45\" stroke=\"none\" width=\"45\" x=\"335\" y=\"245\"/><use transform=\"translate(335, 245)\" xlink:href=\"#white-rook\"/><rect class=\"square light a4\" fill=\"#ffce9e\" height=\"45\" stroke=\"none\" width=\"45\" x=\"20\" y=\"200\"/><use transform=\"translate(20, 200)\" xlink:href=\"#white-knight\"/><rect class=\"square dark b4\" fill=\"#d18b47\" height=\"45\" stroke=\"none\" width=\"45\" x=\"65\" y=\"200\"/><use transform=\"translate(65, 200)\" xlink:href=\"#black-pawn\"/><rect class=\"square light c4\" fill=\"#ffce9e\" height=\"45\" stroke=\"none\" width=\"45\" x=\"110\" y=\"200\"/><rect class=\"square dark d4\" fill=\"#d18b47\" height=\"45\" stroke=\"none\" width=\"45\" x=\"155\" y=\"200\"/><use transform=\"translate(155, 200)\" xlink:href=\"#black-pawn\"/><rect class=\"square light e4\" fill=\"#ffce9e\" height=\"45\" stroke=\"none\" width=\"45\" x=\"200\" y=\"200\"/><rect class=\"square dark f4\" fill=\"#d18b47\" height=\"45\" stroke=\"none\" width=\"45\" x=\"245\" y=\"200\"/><use transform=\"translate(245, 200)\" xlink:href=\"#black-pawn\"/><rect class=\"square light g4\" fill=\"#ffce9e\" height=\"45\" stroke=\"none\" width=\"45\" x=\"290\" y=\"200\"/><rect class=\"square dark h4\" fill=\"#d18b47\" height=\"45\" stroke=\"none\" width=\"45\" x=\"335\" y=\"200\"/><rect class=\"square dark a5\" fill=\"#d18b47\" height=\"45\" stroke=\"none\" width=\"45\" x=\"20\" y=\"155\"/><use transform=\"translate(20, 155)\" xlink:href=\"#black-pawn\"/><rect class=\"square light b5\" fill=\"#ffce9e\" height=\"45\" stroke=\"none\" width=\"45\" x=\"65\" y=\"155\"/><rect class=\"square dark c5\" fill=\"#d18b47\" height=\"45\" stroke=\"none\" width=\"45\" x=\"110\" y=\"155\"/><rect class=\"square light d5\" fill=\"#ffce9e\" height=\"45\" stroke=\"none\" width=\"45\" x=\"155\" y=\"155\"/><rect class=\"square dark e5\" fill=\"#d18b47\" height=\"45\" stroke=\"none\" width=\"45\" x=\"200\" y=\"155\"/><rect class=\"square light f5\" fill=\"#ffce9e\" height=\"45\" stroke=\"none\" width=\"45\" x=\"245\" y=\"155\"/><rect class=\"square dark g5\" fill=\"#d18b47\" height=\"45\" stroke=\"none\" width=\"45\" x=\"290\" y=\"155\"/><rect class=\"square light h5\" fill=\"#ffce9e\" height=\"45\" stroke=\"none\" width=\"45\" x=\"335\" y=\"155\"/><rect class=\"square light a6\" fill=\"#ffce9e\" height=\"45\" stroke=\"none\" width=\"45\" x=\"20\" y=\"110\"/><rect class=\"square dark b6\" fill=\"#d18b47\" height=\"45\" stroke=\"none\" width=\"45\" x=\"65\" y=\"110\"/><rect class=\"square light c6\" fill=\"#ffce9e\" height=\"45\" stroke=\"none\" width=\"45\" x=\"110\" y=\"110\"/><rect class=\"square dark d6\" fill=\"#d18b47\" height=\"45\" stroke=\"none\" width=\"45\" x=\"155\" y=\"110\"/><rect class=\"square light e6\" fill=\"#ffce9e\" height=\"45\" stroke=\"none\" width=\"45\" x=\"200\" y=\"110\"/><rect class=\"square dark f6\" fill=\"#d18b47\" height=\"45\" stroke=\"none\" width=\"45\" x=\"245\" y=\"110\"/><rect class=\"square light g6\" fill=\"#ffce9e\" height=\"45\" stroke=\"none\" width=\"45\" x=\"290\" y=\"110\"/><rect class=\"square dark h6\" fill=\"#d18b47\" height=\"45\" stroke=\"none\" width=\"45\" x=\"335\" y=\"110\"/><rect class=\"square dark a7\" fill=\"#d18b47\" height=\"45\" stroke=\"none\" width=\"45\" x=\"20\" y=\"65\"/><rect class=\"square light b7\" fill=\"#ffce9e\" height=\"45\" stroke=\"none\" width=\"45\" x=\"65\" y=\"65\"/><rect class=\"square dark c7\" fill=\"#d18b47\" height=\"45\" stroke=\"none\" width=\"45\" x=\"110\" y=\"65\"/><rect class=\"square light d7\" fill=\"#ffce9e\" height=\"45\" stroke=\"none\" width=\"45\" x=\"155\" y=\"65\"/><rect class=\"square dark e7\" fill=\"#d18b47\" height=\"45\" stroke=\"none\" width=\"45\" x=\"200\" y=\"65\"/><rect class=\"square light f7\" fill=\"#ffce9e\" height=\"45\" stroke=\"none\" width=\"45\" x=\"245\" y=\"65\"/><use transform=\"translate(245, 65)\" xlink:href=\"#black-rook\"/><rect class=\"square dark g7\" fill=\"#d18b47\" height=\"45\" stroke=\"none\" width=\"45\" x=\"290\" y=\"65\"/><use transform=\"translate(290, 65)\" xlink:href=\"#black-pawn\"/><rect class=\"square light h7\" fill=\"#ffce9e\" height=\"45\" stroke=\"none\" width=\"45\" x=\"335\" y=\"65\"/><use transform=\"translate(335, 65)\" xlink:href=\"#white-pawn\"/><rect class=\"square light a8\" fill=\"#ffce9e\" height=\"45\" stroke=\"none\" width=\"45\" x=\"20\" y=\"20\"/><rect class=\"square dark b8\" fill=\"#d18b47\" height=\"45\" stroke=\"none\" width=\"45\" x=\"65\" y=\"20\"/><rect class=\"square light c8\" fill=\"#ffce9e\" height=\"45\" stroke=\"none\" width=\"45\" x=\"110\" y=\"20\"/><rect class=\"square dark d8\" fill=\"#d18b47\" height=\"45\" stroke=\"none\" width=\"45\" x=\"155\" y=\"20\"/><rect class=\"square light e8\" fill=\"#ffce9e\" height=\"45\" stroke=\"none\" width=\"45\" x=\"200\" y=\"20\"/><rect class=\"square dark f8\" fill=\"#d18b47\" height=\"45\" stroke=\"none\" width=\"45\" x=\"245\" y=\"20\"/><rect class=\"square light g8\" fill=\"#ffce9e\" height=\"45\" stroke=\"none\" width=\"45\" x=\"290\" y=\"20\"/><rect class=\"square dark h8\" fill=\"#d18b47\" height=\"45\" stroke=\"none\" width=\"45\" x=\"335\" y=\"20\"/><use transform=\"translate(335, 20)\" xlink:href=\"#black-king\"/><text alignment-baseline=\"middle\" font-size=\"14\" text-anchor=\"middle\" x=\"42\" y=\"10\">a</text><text alignment-baseline=\"middle\" font-size=\"14\" text-anchor=\"middle\" x=\"42\" y=\"390\">a</text><text alignment-baseline=\"middle\" font-size=\"14\" text-anchor=\"middle\" x=\"87\" y=\"10\">b</text><text alignment-baseline=\"middle\" font-size=\"14\" text-anchor=\"middle\" x=\"87\" y=\"390\">b</text><text alignment-baseline=\"middle\" font-size=\"14\" text-anchor=\"middle\" x=\"132\" y=\"10\">c</text><text alignment-baseline=\"middle\" font-size=\"14\" text-anchor=\"middle\" x=\"132\" y=\"390\">c</text><text alignment-baseline=\"middle\" font-size=\"14\" text-anchor=\"middle\" x=\"177\" y=\"10\">d</text><text alignment-baseline=\"middle\" font-size=\"14\" text-anchor=\"middle\" x=\"177\" y=\"390\">d</text><text alignment-baseline=\"middle\" font-size=\"14\" text-anchor=\"middle\" x=\"222\" y=\"10\">e</text><text alignment-baseline=\"middle\" font-size=\"14\" text-anchor=\"middle\" x=\"222\" y=\"390\">e</text><text alignment-baseline=\"middle\" font-size=\"14\" text-anchor=\"middle\" x=\"267\" y=\"10\">f</text><text alignment-baseline=\"middle\" font-size=\"14\" text-anchor=\"middle\" x=\"267\" y=\"390\">f</text><text alignment-baseline=\"middle\" font-size=\"14\" text-anchor=\"middle\" x=\"312\" y=\"10\">g</text><text alignment-baseline=\"middle\" font-size=\"14\" text-anchor=\"middle\" x=\"312\" y=\"390\">g</text><text alignment-baseline=\"middle\" font-size=\"14\" text-anchor=\"middle\" x=\"357\" y=\"10\">h</text><text alignment-baseline=\"middle\" font-size=\"14\" text-anchor=\"middle\" x=\"357\" y=\"390\">h</text><text alignment-baseline=\"middle\" font-size=\"14\" text-anchor=\"middle\" x=\"10\" y=\"357\">1</text><text alignment-baseline=\"middle\" font-size=\"14\" text-anchor=\"middle\" x=\"390\" y=\"357\">1</text><text alignment-baseline=\"middle\" font-size=\"14\" text-anchor=\"middle\" x=\"10\" y=\"312\">2</text><text alignment-baseline=\"middle\" font-size=\"14\" text-anchor=\"middle\" x=\"390\" y=\"312\">2</text><text alignment-baseline=\"middle\" font-size=\"14\" text-anchor=\"middle\" x=\"10\" y=\"267\">3</text><text alignment-baseline=\"middle\" font-size=\"14\" text-anchor=\"middle\" x=\"390\" y=\"267\">3</text><text alignment-baseline=\"middle\" font-size=\"14\" text-anchor=\"middle\" x=\"10\" y=\"222\">4</text><text alignment-baseline=\"middle\" font-size=\"14\" text-anchor=\"middle\" x=\"390\" y=\"222\">4</text><text alignment-baseline=\"middle\" font-size=\"14\" text-anchor=\"middle\" x=\"10\" y=\"177\">5</text><text alignment-baseline=\"middle\" font-size=\"14\" text-anchor=\"middle\" x=\"390\" y=\"177\">5</text><text alignment-baseline=\"middle\" font-size=\"14\" text-anchor=\"middle\" x=\"10\" y=\"132\">6</text><text alignment-baseline=\"middle\" font-size=\"14\" text-anchor=\"middle\" x=\"390\" y=\"132\">6</text><text alignment-baseline=\"middle\" font-size=\"14\" text-anchor=\"middle\" x=\"10\" y=\"87\">7</text><text alignment-baseline=\"middle\" font-size=\"14\" text-anchor=\"middle\" x=\"390\" y=\"87\">7</text><text alignment-baseline=\"middle\" font-size=\"14\" text-anchor=\"middle\" x=\"10\" y=\"42\">8</text><text alignment-baseline=\"middle\" font-size=\"14\" text-anchor=\"middle\" x=\"390\" y=\"42\">8</text></svg>"
          },
          "metadata": {
            "tags": []
          }
        },
        {
          "output_type": "stream",
          "text": [
            "No Book Moves Found, Using Engine...\n",
            "Model move :\n",
            "found a move in 2.7 seconds\n",
            "c1c8\n",
            "\n",
            " predicted move\n"
          ],
          "name": "stdout"
        },
        {
          "output_type": "display_data",
          "data": {
            "text/plain": [
              "<IPython.core.display.SVG object>"
            ],
            "image/svg+xml": "<svg height=\"300\" version=\"1.1\" viewBox=\"0 0 400 400\" width=\"300\" xmlns=\"http://www.w3.org/2000/svg\" xmlns:xlink=\"http://www.w3.org/1999/xlink\"><defs><g class=\"white pawn\" id=\"white-pawn\"><path d=\"M22 9c-2.21 0-4 1.79-4 4 0 .89.29 1.71.78 2.38-1.95 1.12-3.28 3.21-3.28 5.62 0 2.03.94 3.84 2.41 5.03-3 1.06-7.41 5.55-7.41 13.47h23c0-7.92-4.41-12.41-7.41-13.47 1.47-1.19 2.41-3 2.41-5.03 0-2.41-1.33-4.5-3.28-5.62.49-.67.78-1.49.78-2.38 0-2.21-1.79-4-4-4z\" fill=\"#fff\" stroke=\"#000\" stroke-linecap=\"round\" stroke-width=\"1.5\"/></g><g class=\"white knight\" fill=\"none\" fill-rule=\"evenodd\" id=\"white-knight\" stroke=\"#000\" stroke-linecap=\"round\" stroke-linejoin=\"round\" stroke-width=\"1.5\"><path d=\"M 22,10 C 32.5,11 38.5,18 38,39 L 15,39 C 15,30 25,32.5 23,18\" style=\"fill:#ffffff; stroke:#000000;\"/><path d=\"M 24,18 C 24.38,20.91 18.45,25.37 16,27 C 13,29 13.18,31.34 11,31 C 9.958,30.06 12.41,27.96 11,28 C 10,28 11.19,29.23 10,30 C 9,30 5.997,31 6,26 C 6,24 12,14 12,14 C 12,14 13.89,12.1 14,10.5 C 13.27,9.506 13.5,8.5 13.5,7.5 C 14.5,6.5 16.5,10 16.5,10 L 18.5,10 C 18.5,10 19.28,8.008 21,7 C 22,7 22,10 22,10\" style=\"fill:#ffffff; stroke:#000000;\"/><path d=\"M 9.5 25.5 A 0.5 0.5 0 1 1 8.5,25.5 A 0.5 0.5 0 1 1 9.5 25.5 z\" style=\"fill:#000000; stroke:#000000;\"/><path d=\"M 15 15.5 A 0.5 1.5 0 1 1 14,15.5 A 0.5 1.5 0 1 1 15 15.5 z\" style=\"fill:#000000; stroke:#000000;\" transform=\"matrix(0.866,0.5,-0.5,0.866,9.693,-5.173)\"/></g><g class=\"white rook\" fill=\"#fff\" fill-rule=\"evenodd\" id=\"white-rook\" stroke=\"#000\" stroke-linecap=\"round\" stroke-linejoin=\"round\" stroke-width=\"1.5\"><path d=\"M9 39h27v-3H9v3zM12 36v-4h21v4H12zM11 14V9h4v2h5V9h5v2h5V9h4v5\" stroke-linecap=\"butt\"/><path d=\"M34 14l-3 3H14l-3-3\"/><path d=\"M31 17v12.5H14V17\" stroke-linecap=\"butt\" stroke-linejoin=\"miter\"/><path d=\"M31 29.5l1.5 2.5h-20l1.5-2.5\"/><path d=\"M11 14h23\" fill=\"none\" stroke-linejoin=\"miter\"/></g><g class=\"white king\" fill=\"none\" fill-rule=\"evenodd\" id=\"white-king\" stroke=\"#000\" stroke-linecap=\"round\" stroke-linejoin=\"round\" stroke-width=\"1.5\"><path d=\"M22.5 11.63V6M20 8h5\" stroke-linejoin=\"miter\"/><path d=\"M22.5 25s4.5-7.5 3-10.5c0 0-1-2.5-3-2.5s-3 2.5-3 2.5c-1.5 3 3 10.5 3 10.5\" fill=\"#fff\" stroke-linecap=\"butt\" stroke-linejoin=\"miter\"/><path d=\"M11.5 37c5.5 3.5 15.5 3.5 21 0v-7s9-4.5 6-10.5c-4-6.5-13.5-3.5-16 4V27v-3.5c-3.5-7.5-13-10.5-16-4-3 6 5 10 5 10V37z\" fill=\"#fff\"/><path d=\"M11.5 30c5.5-3 15.5-3 21 0m-21 3.5c5.5-3 15.5-3 21 0m-21 3.5c5.5-3 15.5-3 21 0\"/></g><g class=\"black pawn\" id=\"black-pawn\"><path d=\"M22 9c-2.21 0-4 1.79-4 4 0 .89.29 1.71.78 2.38-1.95 1.12-3.28 3.21-3.28 5.62 0 2.03.94 3.84 2.41 5.03-3 1.06-7.41 5.55-7.41 13.47h23c0-7.92-4.41-12.41-7.41-13.47 1.47-1.19 2.41-3 2.41-5.03 0-2.41-1.33-4.5-3.28-5.62.49-.67.78-1.49.78-2.38 0-2.21-1.79-4-4-4z\" stroke=\"#000\" stroke-linecap=\"round\" stroke-width=\"1.5\"/></g><g class=\"black knight\" fill=\"none\" fill-rule=\"evenodd\" id=\"black-knight\" stroke=\"#000\" stroke-linecap=\"round\" stroke-linejoin=\"round\" stroke-width=\"1.5\"><path d=\"M 22,10 C 32.5,11 38.5,18 38,39 L 15,39 C 15,30 25,32.5 23,18\" style=\"fill:#000000; stroke:#000000;\"/><path d=\"M 24,18 C 24.38,20.91 18.45,25.37 16,27 C 13,29 13.18,31.34 11,31 C 9.958,30.06 12.41,27.96 11,28 C 10,28 11.19,29.23 10,30 C 9,30 5.997,31 6,26 C 6,24 12,14 12,14 C 12,14 13.89,12.1 14,10.5 C 13.27,9.506 13.5,8.5 13.5,7.5 C 14.5,6.5 16.5,10 16.5,10 L 18.5,10 C 18.5,10 19.28,8.008 21,7 C 22,7 22,10 22,10\" style=\"fill:#000000; stroke:#000000;\"/><path d=\"M 9.5 25.5 A 0.5 0.5 0 1 1 8.5,25.5 A 0.5 0.5 0 1 1 9.5 25.5 z\" style=\"fill:#ececec; stroke:#ececec;\"/><path d=\"M 15 15.5 A 0.5 1.5 0 1 1 14,15.5 A 0.5 1.5 0 1 1 15 15.5 z\" style=\"fill:#ececec; stroke:#ececec;\" transform=\"matrix(0.866,0.5,-0.5,0.866,9.693,-5.173)\"/><path d=\"M 24.55,10.4 L 24.1,11.85 L 24.6,12 C 27.75,13 30.25,14.49 32.5,18.75 C 34.75,23.01 35.75,29.06 35.25,39 L 35.2,39.5 L 37.45,39.5 L 37.5,39 C 38,28.94 36.62,22.15 34.25,17.66 C 31.88,13.17 28.46,11.02 25.06,10.5 L 24.55,10.4 z \" style=\"fill:#ececec; stroke:none;\"/></g><g class=\"black rook\" fill=\"#000\" fill-rule=\"evenodd\" id=\"black-rook\" stroke=\"#000\" stroke-linecap=\"round\" stroke-linejoin=\"round\" stroke-width=\"1.5\"><path d=\"M9 39h27v-3H9v3zM12.5 32l1.5-2.5h17l1.5 2.5h-20zM12 36v-4h21v4H12z\" stroke-linecap=\"butt\"/><path d=\"M14 29.5v-13h17v13H14z\" stroke-linecap=\"butt\" stroke-linejoin=\"miter\"/><path d=\"M14 16.5L11 14h23l-3 2.5H14zM11 14V9h4v2h5V9h5v2h5V9h4v5H11z\" stroke-linecap=\"butt\"/><path d=\"M12 35.5h21M13 31.5h19M14 29.5h17M14 16.5h17M11 14h23\" fill=\"none\" stroke=\"#fff\" stroke-linejoin=\"miter\" stroke-width=\"1\"/></g><g class=\"black king\" fill=\"none\" fill-rule=\"evenodd\" id=\"black-king\" stroke=\"#000\" stroke-linecap=\"round\" stroke-linejoin=\"round\" stroke-width=\"1.5\"><path d=\"M22.5 11.63V6\" stroke-linejoin=\"miter\"/><path d=\"M22.5 25s4.5-7.5 3-10.5c0 0-1-2.5-3-2.5s-3 2.5-3 2.5c-1.5 3 3 10.5 3 10.5\" fill=\"#000\" stroke-linecap=\"butt\" stroke-linejoin=\"miter\"/><path d=\"M11.5 37c5.5 3.5 15.5 3.5 21 0v-7s9-4.5 6-10.5c-4-6.5-13.5-3.5-16 4V27v-3.5c-3.5-7.5-13-10.5-16-4-3 6 5 10 5 10V37z\" fill=\"#000\"/><path d=\"M20 8h5\" stroke-linejoin=\"miter\"/><path d=\"M32 29.5s8.5-4 6.03-9.65C34.15 14 25 18 22.5 24.5l.01 2.1-.01-2.1C20 18 9.906 14 6.997 19.85c-2.497 5.65 4.853 9 4.853 9M11.5 30c5.5-3 15.5-3 21 0m-21 3.5c5.5-3 15.5-3 21 0m-21 3.5c5.5-3 15.5-3 21 0\" stroke=\"#fff\"/></g></defs><rect class=\"square dark a1\" fill=\"#d18b47\" height=\"45\" stroke=\"none\" width=\"45\" x=\"20\" y=\"335\"/><rect class=\"square light b1\" fill=\"#ffce9e\" height=\"45\" stroke=\"none\" width=\"45\" x=\"65\" y=\"335\"/><use transform=\"translate(65, 335)\" xlink:href=\"#white-king\"/><rect class=\"square dark c1\" fill=\"#d18b47\" height=\"45\" stroke=\"none\" width=\"45\" x=\"110\" y=\"335\"/><rect class=\"square light d1\" fill=\"#ffce9e\" height=\"45\" stroke=\"none\" width=\"45\" x=\"155\" y=\"335\"/><rect class=\"square dark e1\" fill=\"#d18b47\" height=\"45\" stroke=\"none\" width=\"45\" x=\"200\" y=\"335\"/><rect class=\"square light f1\" fill=\"#ffce9e\" height=\"45\" stroke=\"none\" width=\"45\" x=\"245\" y=\"335\"/><rect class=\"square dark g1\" fill=\"#d18b47\" height=\"45\" stroke=\"none\" width=\"45\" x=\"290\" y=\"335\"/><rect class=\"square light h1\" fill=\"#ffce9e\" height=\"45\" stroke=\"none\" width=\"45\" x=\"335\" y=\"335\"/><rect class=\"square light a2\" fill=\"#ffce9e\" height=\"45\" stroke=\"none\" width=\"45\" x=\"20\" y=\"290\"/><use transform=\"translate(20, 290)\" xlink:href=\"#white-pawn\"/><rect class=\"square dark b2\" fill=\"#d18b47\" height=\"45\" stroke=\"none\" width=\"45\" x=\"65\" y=\"290\"/><use transform=\"translate(65, 290)\" xlink:href=\"#white-pawn\"/><rect class=\"square light c2\" fill=\"#ffce9e\" height=\"45\" stroke=\"none\" width=\"45\" x=\"110\" y=\"290\"/><rect class=\"square dark d2\" fill=\"#d18b47\" height=\"45\" stroke=\"none\" width=\"45\" x=\"155\" y=\"290\"/><rect class=\"square light e2\" fill=\"#ffce9e\" height=\"45\" stroke=\"none\" width=\"45\" x=\"200\" y=\"290\"/><rect class=\"square dark f2\" fill=\"#d18b47\" height=\"45\" stroke=\"none\" width=\"45\" x=\"245\" y=\"290\"/><use transform=\"translate(245, 290)\" xlink:href=\"#black-rook\"/><rect class=\"square light g2\" fill=\"#ffce9e\" height=\"45\" stroke=\"none\" width=\"45\" x=\"290\" y=\"290\"/><rect class=\"square dark h2\" fill=\"#d18b47\" height=\"45\" stroke=\"none\" width=\"45\" x=\"335\" y=\"290\"/><rect class=\"square dark a3\" fill=\"#d18b47\" height=\"45\" stroke=\"none\" width=\"45\" x=\"20\" y=\"245\"/><rect class=\"square light b3\" fill=\"#ffce9e\" height=\"45\" stroke=\"none\" width=\"45\" x=\"65\" y=\"245\"/><rect class=\"square dark c3\" fill=\"#d18b47\" height=\"45\" stroke=\"none\" width=\"45\" x=\"110\" y=\"245\"/><rect class=\"square light d3\" fill=\"#ffce9e\" height=\"45\" stroke=\"none\" width=\"45\" x=\"155\" y=\"245\"/><rect class=\"square dark e3\" fill=\"#d18b47\" height=\"45\" stroke=\"none\" width=\"45\" x=\"200\" y=\"245\"/><use transform=\"translate(200, 245)\" xlink:href=\"#black-knight\"/><rect class=\"square light f3\" fill=\"#ffce9e\" height=\"45\" stroke=\"none\" width=\"45\" x=\"245\" y=\"245\"/><use transform=\"translate(245, 245)\" xlink:href=\"#white-pawn\"/><rect class=\"square dark g3\" fill=\"#d18b47\" height=\"45\" stroke=\"none\" width=\"45\" x=\"290\" y=\"245\"/><rect class=\"square light h3\" fill=\"#ffce9e\" height=\"45\" stroke=\"none\" width=\"45\" x=\"335\" y=\"245\"/><use transform=\"translate(335, 245)\" xlink:href=\"#white-rook\"/><rect class=\"square light a4\" fill=\"#ffce9e\" height=\"45\" stroke=\"none\" width=\"45\" x=\"20\" y=\"200\"/><use transform=\"translate(20, 200)\" xlink:href=\"#white-knight\"/><rect class=\"square dark b4\" fill=\"#d18b47\" height=\"45\" stroke=\"none\" width=\"45\" x=\"65\" y=\"200\"/><use transform=\"translate(65, 200)\" xlink:href=\"#black-pawn\"/><rect class=\"square light c4\" fill=\"#ffce9e\" height=\"45\" stroke=\"none\" width=\"45\" x=\"110\" y=\"200\"/><rect class=\"square dark d4\" fill=\"#d18b47\" height=\"45\" stroke=\"none\" width=\"45\" x=\"155\" y=\"200\"/><use transform=\"translate(155, 200)\" xlink:href=\"#black-pawn\"/><rect class=\"square light e4\" fill=\"#ffce9e\" height=\"45\" stroke=\"none\" width=\"45\" x=\"200\" y=\"200\"/><rect class=\"square dark f4\" fill=\"#d18b47\" height=\"45\" stroke=\"none\" width=\"45\" x=\"245\" y=\"200\"/><use transform=\"translate(245, 200)\" xlink:href=\"#black-pawn\"/><rect class=\"square light g4\" fill=\"#ffce9e\" height=\"45\" stroke=\"none\" width=\"45\" x=\"290\" y=\"200\"/><rect class=\"square dark h4\" fill=\"#d18b47\" height=\"45\" stroke=\"none\" width=\"45\" x=\"335\" y=\"200\"/><rect class=\"square dark a5\" fill=\"#d18b47\" height=\"45\" stroke=\"none\" width=\"45\" x=\"20\" y=\"155\"/><use transform=\"translate(20, 155)\" xlink:href=\"#black-pawn\"/><rect class=\"square light b5\" fill=\"#ffce9e\" height=\"45\" stroke=\"none\" width=\"45\" x=\"65\" y=\"155\"/><rect class=\"square dark c5\" fill=\"#d18b47\" height=\"45\" stroke=\"none\" width=\"45\" x=\"110\" y=\"155\"/><rect class=\"square light d5\" fill=\"#ffce9e\" height=\"45\" stroke=\"none\" width=\"45\" x=\"155\" y=\"155\"/><rect class=\"square dark e5\" fill=\"#d18b47\" height=\"45\" stroke=\"none\" width=\"45\" x=\"200\" y=\"155\"/><rect class=\"square light f5\" fill=\"#ffce9e\" height=\"45\" stroke=\"none\" width=\"45\" x=\"245\" y=\"155\"/><rect class=\"square dark g5\" fill=\"#d18b47\" height=\"45\" stroke=\"none\" width=\"45\" x=\"290\" y=\"155\"/><rect class=\"square light h5\" fill=\"#ffce9e\" height=\"45\" stroke=\"none\" width=\"45\" x=\"335\" y=\"155\"/><rect class=\"square light a6\" fill=\"#ffce9e\" height=\"45\" stroke=\"none\" width=\"45\" x=\"20\" y=\"110\"/><rect class=\"square dark b6\" fill=\"#d18b47\" height=\"45\" stroke=\"none\" width=\"45\" x=\"65\" y=\"110\"/><rect class=\"square light c6\" fill=\"#ffce9e\" height=\"45\" stroke=\"none\" width=\"45\" x=\"110\" y=\"110\"/><rect class=\"square dark d6\" fill=\"#d18b47\" height=\"45\" stroke=\"none\" width=\"45\" x=\"155\" y=\"110\"/><rect class=\"square light e6\" fill=\"#ffce9e\" height=\"45\" stroke=\"none\" width=\"45\" x=\"200\" y=\"110\"/><rect class=\"square dark f6\" fill=\"#d18b47\" height=\"45\" stroke=\"none\" width=\"45\" x=\"245\" y=\"110\"/><rect class=\"square light g6\" fill=\"#ffce9e\" height=\"45\" stroke=\"none\" width=\"45\" x=\"290\" y=\"110\"/><rect class=\"square dark h6\" fill=\"#d18b47\" height=\"45\" stroke=\"none\" width=\"45\" x=\"335\" y=\"110\"/><rect class=\"square dark a7\" fill=\"#d18b47\" height=\"45\" stroke=\"none\" width=\"45\" x=\"20\" y=\"65\"/><rect class=\"square light b7\" fill=\"#ffce9e\" height=\"45\" stroke=\"none\" width=\"45\" x=\"65\" y=\"65\"/><rect class=\"square dark c7\" fill=\"#d18b47\" height=\"45\" stroke=\"none\" width=\"45\" x=\"110\" y=\"65\"/><rect class=\"square light d7\" fill=\"#ffce9e\" height=\"45\" stroke=\"none\" width=\"45\" x=\"155\" y=\"65\"/><rect class=\"square dark e7\" fill=\"#d18b47\" height=\"45\" stroke=\"none\" width=\"45\" x=\"200\" y=\"65\"/><rect class=\"square light f7\" fill=\"#ffce9e\" height=\"45\" stroke=\"none\" width=\"45\" x=\"245\" y=\"65\"/><use transform=\"translate(245, 65)\" xlink:href=\"#black-rook\"/><rect class=\"square dark g7\" fill=\"#d18b47\" height=\"45\" stroke=\"none\" width=\"45\" x=\"290\" y=\"65\"/><use transform=\"translate(290, 65)\" xlink:href=\"#black-pawn\"/><rect class=\"square light h7\" fill=\"#ffce9e\" height=\"45\" stroke=\"none\" width=\"45\" x=\"335\" y=\"65\"/><use transform=\"translate(335, 65)\" xlink:href=\"#white-pawn\"/><rect class=\"square light a8\" fill=\"#ffce9e\" height=\"45\" stroke=\"none\" width=\"45\" x=\"20\" y=\"20\"/><rect class=\"square dark b8\" fill=\"#d18b47\" height=\"45\" stroke=\"none\" width=\"45\" x=\"65\" y=\"20\"/><rect class=\"square light c8\" fill=\"#ffce9e\" height=\"45\" stroke=\"none\" width=\"45\" x=\"110\" y=\"20\"/><use transform=\"translate(110, 20)\" xlink:href=\"#white-rook\"/><rect class=\"square dark d8\" fill=\"#d18b47\" height=\"45\" stroke=\"none\" width=\"45\" x=\"155\" y=\"20\"/><rect class=\"square light e8\" fill=\"#ffce9e\" height=\"45\" stroke=\"none\" width=\"45\" x=\"200\" y=\"20\"/><rect class=\"square dark f8\" fill=\"#d18b47\" height=\"45\" stroke=\"none\" width=\"45\" x=\"245\" y=\"20\"/><rect class=\"square light g8\" fill=\"#ffce9e\" height=\"45\" stroke=\"none\" width=\"45\" x=\"290\" y=\"20\"/><rect class=\"square dark h8\" fill=\"#d18b47\" height=\"45\" stroke=\"none\" width=\"45\" x=\"335\" y=\"20\"/><use transform=\"translate(335, 20)\" xlink:href=\"#black-king\"/><text alignment-baseline=\"middle\" font-size=\"14\" text-anchor=\"middle\" x=\"42\" y=\"10\">a</text><text alignment-baseline=\"middle\" font-size=\"14\" text-anchor=\"middle\" x=\"42\" y=\"390\">a</text><text alignment-baseline=\"middle\" font-size=\"14\" text-anchor=\"middle\" x=\"87\" y=\"10\">b</text><text alignment-baseline=\"middle\" font-size=\"14\" text-anchor=\"middle\" x=\"87\" y=\"390\">b</text><text alignment-baseline=\"middle\" font-size=\"14\" text-anchor=\"middle\" x=\"132\" y=\"10\">c</text><text alignment-baseline=\"middle\" font-size=\"14\" text-anchor=\"middle\" x=\"132\" y=\"390\">c</text><text alignment-baseline=\"middle\" font-size=\"14\" text-anchor=\"middle\" x=\"177\" y=\"10\">d</text><text alignment-baseline=\"middle\" font-size=\"14\" text-anchor=\"middle\" x=\"177\" y=\"390\">d</text><text alignment-baseline=\"middle\" font-size=\"14\" text-anchor=\"middle\" x=\"222\" y=\"10\">e</text><text alignment-baseline=\"middle\" font-size=\"14\" text-anchor=\"middle\" x=\"222\" y=\"390\">e</text><text alignment-baseline=\"middle\" font-size=\"14\" text-anchor=\"middle\" x=\"267\" y=\"10\">f</text><text alignment-baseline=\"middle\" font-size=\"14\" text-anchor=\"middle\" x=\"267\" y=\"390\">f</text><text alignment-baseline=\"middle\" font-size=\"14\" text-anchor=\"middle\" x=\"312\" y=\"10\">g</text><text alignment-baseline=\"middle\" font-size=\"14\" text-anchor=\"middle\" x=\"312\" y=\"390\">g</text><text alignment-baseline=\"middle\" font-size=\"14\" text-anchor=\"middle\" x=\"357\" y=\"10\">h</text><text alignment-baseline=\"middle\" font-size=\"14\" text-anchor=\"middle\" x=\"357\" y=\"390\">h</text><text alignment-baseline=\"middle\" font-size=\"14\" text-anchor=\"middle\" x=\"10\" y=\"357\">1</text><text alignment-baseline=\"middle\" font-size=\"14\" text-anchor=\"middle\" x=\"390\" y=\"357\">1</text><text alignment-baseline=\"middle\" font-size=\"14\" text-anchor=\"middle\" x=\"10\" y=\"312\">2</text><text alignment-baseline=\"middle\" font-size=\"14\" text-anchor=\"middle\" x=\"390\" y=\"312\">2</text><text alignment-baseline=\"middle\" font-size=\"14\" text-anchor=\"middle\" x=\"10\" y=\"267\">3</text><text alignment-baseline=\"middle\" font-size=\"14\" text-anchor=\"middle\" x=\"390\" y=\"267\">3</text><text alignment-baseline=\"middle\" font-size=\"14\" text-anchor=\"middle\" x=\"10\" y=\"222\">4</text><text alignment-baseline=\"middle\" font-size=\"14\" text-anchor=\"middle\" x=\"390\" y=\"222\">4</text><text alignment-baseline=\"middle\" font-size=\"14\" text-anchor=\"middle\" x=\"10\" y=\"177\">5</text><text alignment-baseline=\"middle\" font-size=\"14\" text-anchor=\"middle\" x=\"390\" y=\"177\">5</text><text alignment-baseline=\"middle\" font-size=\"14\" text-anchor=\"middle\" x=\"10\" y=\"132\">6</text><text alignment-baseline=\"middle\" font-size=\"14\" text-anchor=\"middle\" x=\"390\" y=\"132\">6</text><text alignment-baseline=\"middle\" font-size=\"14\" text-anchor=\"middle\" x=\"10\" y=\"87\">7</text><text alignment-baseline=\"middle\" font-size=\"14\" text-anchor=\"middle\" x=\"390\" y=\"87\">7</text><text alignment-baseline=\"middle\" font-size=\"14\" text-anchor=\"middle\" x=\"10\" y=\"42\">8</text><text alignment-baseline=\"middle\" font-size=\"14\" text-anchor=\"middle\" x=\"390\" y=\"42\">8</text></svg>"
          },
          "metadata": {
            "tags": []
          }
        }
      ]
    }
  ]
}